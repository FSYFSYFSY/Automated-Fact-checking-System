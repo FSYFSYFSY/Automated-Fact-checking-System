{
  "cells": [
    {
      "cell_type": "markdown",
      "metadata": {
        "id": "32yCsRUo8H33"
      },
      "source": [
        "# 2025 COMP90042 Project\n",
        "*Make sure you change the file name with your group id.*"
      ]
    },
    {
      "cell_type": "markdown",
      "metadata": {
        "id": "XCybYoGz8YWQ"
      },
      "source": [
        "# Readme\n",
        "*If there is something to be noted for the marker, please mention here.*\n",
        "\n",
        "*If you are planning to implement a program with Object Oriented Programming style, please put those the bottom of this ipynb file*"
      ]
    },
    {
      "cell_type": "code",
      "execution_count": 1,
      "metadata": {
        "colab": {
          "base_uri": "https://localhost:8080/",
          "height": 384
        },
        "id": "dJjxN9-mrp47",
        "outputId": "4a16225c-2fc5-4ca9-d35f-47d58845a9f7"
      },
      "outputs": [],
      "source": [
        "import json\n",
        "import torch\n",
        "import torch.nn as nn\n",
        "import torch.nn.functional as func\n",
        "from torch.utils.data import DataLoader,Dataset\n",
        "import transformers\n",
        "from transformers import RobertaTokenizer, RobertaModel, RobertaForSequenceClassification\n",
        "from transformers import XLMRobertaTokenizer, XLMRobertaForSequenceClassification\n",
        "from transformers import get_linear_schedule_with_warmup\n",
        "from sentence_transformers import SentenceTransformer, InputExample, losses, SentencesDataset\n",
        "import faiss\n",
        "\n",
        "import colbert\n",
        "\n",
        "from colbert.infra import Run, RunConfig, ColBERTConfig\n",
        "from colbert import Indexer, Searcher\n",
        "\n",
        "\n",
        "from tqdm import tqdm\n",
        "import numpy as np\n",
        "import matplotlib.pyplot as plt\n",
        "import random\n"
      ]
    },
    {
      "cell_type": "code",
      "execution_count": 2,
      "metadata": {},
      "outputs": [
        {
          "name": "stdout",
          "output_type": "stream",
          "text": [
            "Working space: /home/lhg45/ColBERT/Automated-Fact-checking-System\n"
          ]
        }
      ],
      "source": [
        "import os\n",
        "os.chdir('Automated-Fact-checking-System')\n",
        "print(\"Working space:\", os.getcwd())\n"
      ]
    },
    {
      "cell_type": "markdown",
      "metadata": {
        "id": "6po98qVA8bJD"
      },
      "source": [
        "# 1.DataSet Processing\n",
        "(You can add as many code blocks and text blocks as you need. However, YOU SHOULD NOT MODIFY the section title)"
      ]
    },
    {
      "cell_type": "code",
      "execution_count": 3,
      "metadata": {
        "id": "qvff21Hv8zjk"
      },
      "outputs": [],
      "source": [
        "class ClaimEvidenceDataset(Dataset):\n",
        "\n",
        "    def __init__(self, claims, evidence, tokenizer, max_len=512, if_train=True):\n",
        "        self.claim_texts = []\n",
        "        self.evidence_texts = []\n",
        "        self.tokenizer = tokenizer\n",
        "        self.max_length = max_len\n",
        "        self.if_train = if_train\n",
        "        self.claim_ids = []\n",
        "        if if_train:\n",
        "            self.labels = []\n",
        "\n",
        "        self.label2id = {\n",
        "            \"SUPPORTS\": 0,\n",
        "            \"REFUTES\": 1,\n",
        "            \"NOT_ENOUGH_INFO\": 2,\n",
        "            \"DISPUTED\": 3\n",
        "        }\n",
        "\n",
        "        for claim_idx, claim_info in claims.items():\n",
        "            self.claim_ids.append(claim_idx)\n",
        "            self.claim_texts.append(claim_info['claim_text'])\n",
        "            evidence_text = \"\"\n",
        "            for evid in claim_info['evidences']:\n",
        "                if evid in evidence:\n",
        "                    evidence_text += evidence[evid] + \" \"\n",
        "            self.evidence_texts.append(evidence_text.strip())\n",
        "            if if_train:\n",
        "                self.labels.append(self.label2id[claim_info['claim_label']])\n",
        "\n",
        "            \n",
        "    def __len__(self):\n",
        "        return len(self.claim_texts)\n",
        "\n",
        "    def __getitem__(self, idx):\n",
        "        encoded = self.tokenizer(\n",
        "            self.claim_texts[idx],\n",
        "            self.evidence_texts[idx],\n",
        "            padding='max_length',\n",
        "            truncation=True,\n",
        "            max_length=self.max_length,\n",
        "            return_tensors='pt'\n",
        "        )\n",
        "        if self.if_train:\n",
        "            return {\n",
        "                'input_ids': encoded['input_ids'].squeeze(0),\n",
        "                'attention_mask': encoded['attention_mask'].squeeze(0),\n",
        "                'labels': torch.tensor(self.labels[idx], dtype=torch.long),\n",
        "                'claim_id': self.claim_ids[idx]\n",
        "            }\n",
        "        else:\n",
        "            return {\n",
        "                'input_ids': encoded['input_ids'].squeeze(0),\n",
        "                'attention_mask': encoded['attention_mask'].squeeze(0),\n",
        "                'claim_id': self.claim_ids[idx]\n",
        "            }\n"
      ]
    },
    {
      "cell_type": "code",
      "execution_count": 4,
      "metadata": {
        "colab": {
          "base_uri": "https://localhost:8080/",
          "height": 301,
          "referenced_widgets": [
            "367264f623d94e4d8be9eabebd1ca226",
            "e5e7bcc2a8804c0198d7a48a0e13cbe1",
            "c27e779078834dd6a741d68477826664",
            "2fe2234391f844ef800c86159355449f",
            "60e106cf8d924c31a6dbc0c263b38ec7",
            "e8d914a69a77408998526bedd397f02a",
            "dea36dfa9d724a3bad62cea1e6272033",
            "e822f25387b9414090540b22cc962a2f",
            "12736ca950394f7fb6685046a5920fa5",
            "8132e461c9734fbc8c4c816073ca3175",
            "5defd2c017634407a57d2ff7df0c5039",
            "87b88de3fef24a1faf2e7288702a51b2",
            "bba856a3b15745c592d060f26b5d05ba",
            "4a1ed44aa6b941d49b3ca88f94267a6c",
            "1e125460b66c4b48af3dee3918392d4f",
            "f058f580098e4942b4e0d9a239b298d4",
            "32d69ffb948349f0919d1a2a928997d5",
            "cdeb8124b14049c78811b7b25be44af0",
            "9682ffda76544e70acdb7c8af53d6c79",
            "7a7a37941489447199398b53da761551",
            "b4ec91b969c04c038086bead3013a97d",
            "16d990592d25497bbd9484eb4eb20500",
            "1e82049a89df423980fe6fc8e4c846ff",
            "2b4df15969ab4fe3871ee437c962b8d7",
            "3f3427876fec4a5bbafa144efcee9bd8",
            "bf4567fd20b64b43847883dd1b4a4424",
            "b31a7e3446034e4bb5ac1acc59c51c33",
            "be208507b0fa4f71bcc456818a587f3c",
            "bcade70f610d42b49c32502cc7862819",
            "d16ee8e8255d4f058e166ef7f5a7d8f3",
            "92075ff64e3c4e689253ff8fe6d5f67f",
            "fff774b070014fa3a77df004ccf7cfbc",
            "e1b261ceda374ed0a9d08ef56792e6ec",
            "f5fb3f6868ab45e48c9e5b422f9666ae",
            "dcc6e77ad362446da18bb87183ed4091",
            "6232ec7404c1405ba4a57969d086a045",
            "c3e03a0924284a05a4e1acb93e85276f",
            "db78793504fb4abb9eeb393d17c91734",
            "ca444123dfcb4ae58e030bf8378cdce8",
            "02c4c6386ded4ee2a2894d2c254364af",
            "6dc93ae23d1043c89b33bbbaeea166f6",
            "cbc96faebbd5428bbd51c73cc66ba5ad",
            "1c95fa4a745a4dfd9b33120c24448bbe",
            "583c9b6ce7dc4301bccfd2af3e593405",
            "8cbde1ce4a4a46db9cf4b0e0ff527142",
            "1d26d3c5a7d84c6b9c6bfedf329ded59",
            "4feb8757ef3448249e1d9eb40c37e7b7",
            "2cb0951923104314b2c4ca665e7568b9",
            "a8ca717f0dc240ffba89beafd9e5549c",
            "971bd4089232484995a80751b003c2f5",
            "9a798d22aa774ada97da0025982c7663",
            "46598b9ffc2d47f7a995ba65c2d3a8e1",
            "49130da8317d40f1b8061f6cb280b46f",
            "f1ad738769e74c6f89f28b205186bb92",
            "b4a6ad933ed245e8b2095abf5f30ceee"
          ]
        },
        "id": "7YchkN8rrp48",
        "outputId": "956078c3-0f86-45fd-bb24-d712d9a018a4"
      },
      "outputs": [
        {
          "data": {
            "text/plain": [
              "'\\nwith open(\\'data/evidence_colbert.tsv\\', \\'w\\', encoding=\\'utf-8\\') as f_out:\\n    for idx, text in enumerate(evidence.values()):\\n        text = text.replace(\"\\t\", \" \")\\n        f_out.write(f\"{idx}\\t{text.strip()}\\n\")\\n'"
            ]
          },
          "execution_count": 4,
          "metadata": {},
          "output_type": "execute_result"
        }
      ],
      "source": [
        "with open(\"data/train-claims.json\", 'r') as f:\n",
        "    train_claims = json.load(f)\n",
        "\n",
        "with open(\"data/test-claims-unlabelled.json\", 'r') as f:\n",
        "    test_claims = json.load(f)\n",
        "\n",
        "with open(\"data/evidence.json\", 'r') as f:\n",
        "    evidence = json.load(f)\n",
        "\n",
        "evidence_ids = list(evidence.keys())\n",
        "evidence_texts = list(evidence.values())\n",
        "\n",
        "with open(\"data/dev-claims-baseline.json\", \"r\") as f:\n",
        "    dev_data_baseline = json.load(f)\n",
        "\n",
        "with open(\"data/dev-claims.json\", \"r\") as f:\n",
        "    dev_data = json.load(f)\n",
        "\n",
        "'''\n",
        "with open('data/evidence_colbert.tsv', 'w', encoding='utf-8') as f_out:\n",
        "    for idx, text in enumerate(evidence.values()):\n",
        "        text = text.replace(\"\\t\", \" \")\n",
        "        f_out.write(f\"{idx}\\t{text.strip()}\\n\")\n",
        "'''\n"
      ]
    },
    {
      "cell_type": "markdown",
      "metadata": {
        "id": "1FA2ao2l8hOg"
      },
      "source": [
        "# 2. Model Implementation\n",
        "(You can add as many code blocks and text blocks as you need. However, YOU SHOULD NOT MODIFY the section title)"
      ]
    },
    {
      "cell_type": "code",
      "execution_count": null,
      "metadata": {},
      "outputs": [],
      "source": [
        "#This method has been deprecated, do not use it\n",
        "#!!!*****only run once(I have run it in local), if you want to re-index, set overwrite=True*****!!!\n",
        "\n",
        "#Colbert Indexing, Tokenization and embedding in evidence_colbert.txt\n",
        "'''\n",
        "checkpoint = \"colbert-ir/colbertv2.0\"\n",
        "index_name = \"evidence_index\"\n",
        "doc_maxlen = 180\n",
        "\n",
        "with Run().context(RunConfig(nranks=1, experiment=\"colab_run\", root=\"./colbert\")):\n",
        "    config = ColBERTConfig(nbits=2, root=\"./colbert\")\n",
        "    indexer = Indexer(checkpoint=checkpoint, config=config)\n",
        "    #indexer.index(name=index_name, collection=\"data/evidence_colbert.tsv\",overwrite=True)\n",
        "    indexer.index(name=index_name, collection=\"data/evidence_colbert.tsv\")\n",
        "'''"
      ]
    },
    {
      "cell_type": "code",
      "execution_count": 5,
      "metadata": {},
      "outputs": [
        {
          "data": {
            "text/html": [
              "\n",
              "    <div>\n",
              "      \n",
              "      <progress value='0' max='0' style='width:300px; height:20px; vertical-align: middle;'></progress>\n",
              "      [0/0 : < :, Epoch 0/0]\n",
              "    </div>\n",
              "    <table border=\"1\" class=\"dataframe\">\n",
              "  <thead>\n",
              " <tr style=\"text-align: left;\">\n",
              "      <th>Step</th>\n",
              "      <th>Training Loss</th>\n",
              "    </tr>\n",
              "  </thead>\n",
              "  <tbody>\n",
              "  </tbody>\n",
              "</table><p>"
            ],
            "text/plain": [
              "<IPython.core.display.HTML object>"
            ]
          },
          "metadata": {},
          "output_type": "display_data"
        },
        {
          "data": {
            "application/vnd.jupyter.widget-view+json": {
              "model_id": "d9432563f0ef400c98b43d9f1a6daf9a",
              "version_major": 2,
              "version_minor": 0
            },
            "text/plain": [
              "Computing widget examples:   0%|          | 0/1 [00:00<?, ?example/s]"
            ]
          },
          "metadata": {},
          "output_type": "display_data"
        }
      ],
      "source": [
        "#!!!Only run once, otherwise you want to refune-tune the model!!!\n",
        "#Finetuning the intfloat/e5-base-v2 model base on our training data\n",
        "train_pairs = []\n",
        "\n",
        "for claim_info in train_claims.values():\n",
        "    claim_text = claim_info[\"claim_text\"]\n",
        "    for evid_id in claim_info[\"evidences\"]:\n",
        "        if evid_id in evidence:\n",
        "            evidence_text = evidence[evid_id]\n",
        "            train_pairs.append((claim_text, evidence_text))\n",
        "\n",
        "train_examples = [\n",
        "    InputExample(texts=[\"query: \" + claim, \"passage: \" + evidence]) for claim, evidence in train_pairs\n",
        "]\n",
        "\n",
        "e5_base_model = SentenceTransformer(\"intfloat/e5-base-v2\") \n",
        "\n",
        "train_dataloader = DataLoader(train_examples, shuffle=True, batch_size=8)\n",
        "train_loss = losses.MultipleNegativesRankingLoss(e5_base_model)\n",
        "\n",
        "e5_base_model.fit(\n",
        "    train_objectives=[(train_dataloader, train_loss)],\n",
        "    epochs=0,\n",
        "    warmup_steps=100,\n",
        "    show_progress_bar=True,\n",
        "    output_path=\"e5_finetuned_co2\"\n",
        ")\n",
        "\n",
        "torch.cuda.empty_cache()\n",
        "\n",
        "#model will be saved in the e5_finetuned_co2 folder in current working directory"
      ]
    },
    {
      "cell_type": "code",
      "execution_count": 5,
      "metadata": {},
      "outputs": [
        {
          "name": "stdout",
          "output_type": "stream",
          "text": [
            "Load model from e5_base_v2\n"
          ]
        },
        {
          "data": {
            "text/html": [
              "\n",
              "    <div>\n",
              "      \n",
              "      <progress value='2305' max='2305' style='width:300px; height:20px; vertical-align: middle;'></progress>\n",
              "      [2305/2305 07:03, Epoch 5/5]\n",
              "    </div>\n",
              "    <table border=\"1\" class=\"dataframe\">\n",
              "  <thead>\n",
              " <tr style=\"text-align: left;\">\n",
              "      <th>Step</th>\n",
              "      <th>Training Loss</th>\n",
              "    </tr>\n",
              "  </thead>\n",
              "  <tbody>\n",
              "    <tr>\n",
              "      <td>500</td>\n",
              "      <td>3.491500</td>\n",
              "    </tr>\n",
              "    <tr>\n",
              "      <td>1000</td>\n",
              "      <td>3.178300</td>\n",
              "    </tr>\n",
              "    <tr>\n",
              "      <td>1500</td>\n",
              "      <td>3.138300</td>\n",
              "    </tr>\n",
              "    <tr>\n",
              "      <td>2000</td>\n",
              "      <td>3.123200</td>\n",
              "    </tr>\n",
              "  </tbody>\n",
              "</table><p>"
            ],
            "text/plain": [
              "<IPython.core.display.HTML object>"
            ]
          },
          "metadata": {},
          "output_type": "display_data"
        },
        {
          "data": {
            "application/vnd.jupyter.widget-view+json": {
              "model_id": "e63b61ee69e44885a108de7345ed5933",
              "version_major": 2,
              "version_minor": 0
            },
            "text/plain": [
              "Computing widget examples:   0%|          | 0/1 [00:00<?, ?example/s]"
            ]
          },
          "metadata": {},
          "output_type": "display_data"
        }
      ],
      "source": [
        "#!!!Only run once, otherwise you want to refune-tune the model!!!\n",
        "#Finetuning the intfloat/e5-base-v2 model base on our training data， this will randomly sample 3 negative samples\n",
        "train_examples = []\n",
        "\n",
        "for claim_info in train_claims.values():\n",
        "    claim_text = \"query: \" + claim_info[\"claim_text\"]\n",
        "    pos_ids = [eid for eid in claim_info[\"evidences\"] if eid in evidence]\n",
        "    if not pos_ids:\n",
        "        continue\n",
        "\n",
        "    pos_text = \"passage: \" + evidence[random.choice(pos_ids)]\n",
        "\n",
        "    all_ids = set(evidence.keys())\n",
        "    neg_pool = list(all_ids - set(pos_ids))\n",
        "    if len(neg_pool) < 3:\n",
        "        continue\n",
        "\n",
        "    neg_ids = random.sample(neg_pool, k=3)\n",
        "    neg_texts = [\"passage: \" + evidence[eid] for eid in neg_ids]\n",
        "\n",
        "    for neg_text in neg_texts:\n",
        "        train_examples.append(\n",
        "            InputExample(texts=[claim_text, pos_text, neg_text])\n",
        "        )\n",
        "\n",
        "model = SentenceTransformer(\"intfloat/e5-base-v2\")\n",
        "print(\"Load model from e5_base_v2\")\n",
        "\n",
        "train_dataset = SentencesDataset(train_examples, model)\n",
        "train_dataloader = DataLoader(train_dataset, shuffle=True, batch_size=8)\n",
        "\n",
        "train_loss = losses.TripletLoss(model=model)\n",
        "\n",
        "model.fit(\n",
        "    train_objectives=[(train_dataloader, train_loss)],\n",
        "    epochs=5,\n",
        "    warmup_steps=100,\n",
        "    show_progress_bar=True,\n",
        "    output_path=\"e5_finetuned_co2_triplet\",\n",
        ")\n",
        "\n",
        "torch.cuda.empty_cache()\n",
        "#model will be saved in the e5_finetuned_co2_triplet folder in current working directory"
      ]
    },
    {
      "cell_type": "code",
      "execution_count": null,
      "metadata": {},
      "outputs": [],
      "source": [
        "'''\n",
        "#!!!Only run once, otherwise you want to refune-tune the model!!!\n",
        "#Finetuning the intfloat/e5-base-v2 model base on our training data, we used enforce-learning\n",
        "\n",
        "def pos_neg_e5_enforce_training():\n",
        "\n",
        "hard_negative_dict = {}\n",
        "\n",
        "train_examples = []\n",
        "\n",
        "for claim_id, claim_info in train_claims.items():\n",
        "    query_text = \"query: \" + claim_info[\"claim_text\"]\n",
        "    pos_evidences = [evidence[eid] for eid in claim_info[\"evidences\"] if eid in evidence]\n",
        "\n",
        "    hard_negs = hard_negative_dict.get(claim_id, [])\n",
        "\n",
        "    for pos_text in pos_evidences:\n",
        "        if len(hard_negs) > 0:\n",
        "            for neg_text in hard_negs:\n",
        "                train_examples.append(\n",
        "                    InputExample(texts=[query_text, \"passage: \" + pos_text, \"passage: \" + neg_text])\n",
        "                )\n",
        "        else:\n",
        "            train_examples.append(\n",
        "                InputExample(texts=[query_text, \"passage: \" + pos_text])\n",
        "            )\n",
        "\n",
        "e5_base_model = SentenceTransformer(\"intfloat/e5-base-v2\")\n",
        "\n",
        "train_dataloader = DataLoader(train_examples, shuffle=True, batch_size=16)\n",
        "\n",
        "if any(len(ex.texts) == 3 for ex in train_examples):\n",
        "    train_loss = losses.SoftmaxLoss(\n",
        "        model=e5_base_model,\n",
        "        sentence_embedding_dimension=e5_base_model.get_sentence_embedding_dimension(),\n",
        "        num_labels=2 \n",
        "    )\n",
        "else:\n",
        "    train_loss = losses.MultipleNegativesRankingLoss(e5_base_model)\n",
        "\n",
        "e5_base_model.fit(\n",
        "    train_objectives=[(train_dataloader, train_loss)],\n",
        "    epochs=0,\n",
        "    warmup_steps=100,\n",
        "    show_progress_bar=True,\n",
        "    output_path=\"e5_finetuned_co2_with_hardneg\"\n",
        ")\n",
        "\n",
        "\n",
        "\n",
        "#model will be saved in the e5_finetuned_co2 folder in current working directory\n",
        "'''"
      ]
    },
    {
      "cell_type": "code",
      "execution_count": 6,
      "metadata": {},
      "outputs": [
        {
          "data": {
            "application/vnd.jupyter.widget-view+json": {
              "model_id": "01cab0a88dd846cba57ee7ffc46cbac1",
              "version_major": 2,
              "version_minor": 0
            },
            "text/plain": [
              "Batches:   0%|          | 0/37776 [00:00<?, ?it/s]"
            ]
          },
          "metadata": {},
          "output_type": "display_data"
        }
      ],
      "source": [
        "#Load the fine-tuned model\n",
        "E5_model = SentenceTransformer(\"e5_finetuned_co2\")\n",
        "\n",
        "\n",
        "# Create Indexing system for evidence texts(only run once)\n",
        "evidence_texts_with_prefix = [\"passage: \" + text for text in evidence_texts]\n",
        "\n",
        "evidence_embeddings = E5_model.encode(evidence_texts_with_prefix, convert_to_tensor=False, show_progress_bar=True)\n",
        "\n",
        "embedding_dim = evidence_embeddings[0].shape[0]\n",
        "index = faiss.IndexFlatL2(embedding_dim)\n",
        "\n",
        "index.add(np.array(evidence_embeddings))\n",
        "\n",
        "faiss.write_index(index, \"E5/e5_index.faiss\")\n",
        "torch.cuda.empty_cache()\n",
        "\n",
        "# Load the index\n",
        "e5_index = faiss.read_index(\"E5/e5_index.faiss\")"
      ]
    },
    {
      "cell_type": "code",
      "execution_count": 7,
      "metadata": {
        "colab": {
          "base_uri": "https://localhost:8080/"
        },
        "id": "QIEqDDT78q39",
        "outputId": "e023c026-be97-466c-d654-c5c51b6fbebf"
      },
      "outputs": [
        {
          "name": "stderr",
          "output_type": "stream",
          "text": [
            "Some weights of XLMRobertaForSequenceClassification were not initialized from the model checkpoint at xlm-roberta-large and are newly initialized: ['classifier.dense.bias', 'classifier.dense.weight', 'classifier.out_proj.bias', 'classifier.out_proj.weight']\n",
            "You should probably TRAIN this model on a down-stream task to be able to use it for predictions and inference.\n"
          ]
        }
      ],
      "source": [
        "#Roberta Model setting\n",
        "device = torch.device('cuda' if torch.cuda.is_available() else 'cpu')\n",
        "\n",
        "\n",
        "#model = RobertaForSequenceClassification.from_pretrained('roberta-base', num_labels=4).to(device)\n",
        "#tokenizer = RobertaTokenizer.from_pretrained('roberta-base')\n",
        "tokenizer = XLMRobertaTokenizer.from_pretrained('xlm-roberta-large')\n",
        "model = XLMRobertaForSequenceClassification.from_pretrained('xlm-roberta-large', num_labels=4).to(device)\n",
        "\n",
        "epochs = 24\n",
        "\n",
        "batch_size = 16\n",
        "\n",
        "optimizer = torch.optim.AdamW(model.parameters(), lr=2e-5, weight_decay=0.01)\n",
        "scaler = torch.cuda.amp.GradScaler()#accelerate\n",
        "\n",
        "train_steps = int((len(train_claims) * epochs)/batch_size)\n",
        "num_steps = int(train_steps * 0.1)\n",
        "scheduler = get_linear_schedule_with_warmup(optimizer, num_steps, train_steps)\n",
        "\n",
        "train_dataset = ClaimEvidenceDataset(train_claims, evidence, tokenizer)\n",
        "train_dataloader = DataLoader(train_dataset, batch_size, shuffle=True)\n",
        "\n",
        "#valid_dataset = ClaimEvidenceDataset(test_claims, evidence, tokenizer, if_train = False)\n",
        "#valid_dataloader = DataLoader(valid_dataset, batch_size, shuffle=True)\n"
      ]
    },
    {
      "cell_type": "code",
      "execution_count": 8,
      "metadata": {
        "id": "Wbjky8eihTXn"
      },
      "outputs": [],
      "source": [
        "#freeze last 3 layer\n",
        "for param in model.parameters():\n",
        "    param.requires_grad = False\n",
        "\n",
        "for layer in model.roberta.encoder.layer[-3:]:\n",
        "    for param in layer.parameters():\n",
        "        param.requires_grad = True\n",
        "\n",
        "for param in model.classifier.parameters():\n",
        "    param.requires_grad = True\n"
      ]
    },
    {
      "cell_type": "code",
      "execution_count": 10,
      "metadata": {
        "id": "fa17QiaCcke1"
      },
      "outputs": [],
      "source": [
        "def training(train_dataloader, model, optimizer, scheduler, scaler, device):\n",
        "    model.train()\n",
        "    correct_predictions = 0\n",
        "    total_loss = 0\n",
        "    num_batches = 0\n",
        "    total_samples = 0\n",
        "\n",
        "    for batch in tqdm(train_dataloader):\n",
        "        optimizer.zero_grad()\n",
        "\n",
        "        with torch.amp.autocast('cuda'):\n",
        "            ids = batch['input_ids'].to(device)\n",
        "            mask = batch['attention_mask'].to(device)\n",
        "            labels = batch['labels'].to(device)\n",
        "\n",
        "            outputs = model(ids, attention_mask=mask, labels=labels)\n",
        "            loss = outputs.loss\n",
        "            logits = outputs.logits\n",
        "\n",
        "        preds = torch.argmax(logits, dim=1)\n",
        "        correct_predictions += (preds == labels).sum().item()\n",
        "        total_samples += labels.size(0)\n",
        "\n",
        "        scaler.scale(loss).backward()\n",
        "        scaler.step(optimizer)\n",
        "        scaler.update()\n",
        "        scheduler.step()\n",
        "\n",
        "        total_loss += loss.item()\n",
        "        num_batches += 1\n",
        "\n",
        "    avg_epoch_loss = total_loss / num_batches\n",
        "    accuracy = correct_predictions / total_samples\n",
        "\n",
        "\n",
        "    return avg_epoch_loss, accuracy\n",
        "\n",
        "\n",
        "def validating(val_dataloader, model, device):\n",
        "    model.eval()\n",
        "    all_predictions = []\n",
        "    claim_ids = []\n",
        "\n",
        "    with torch.no_grad():\n",
        "        for batch in tqdm(val_dataloader):\n",
        "            ids = batch['input_ids'].to(device)\n",
        "            mask = batch['attention_mask'].to(device)\n",
        "\n",
        "            outputs = model(ids, attention_mask=mask)\n",
        "            logits = outputs.logits\n",
        "\n",
        "            preds = torch.argmax(logits, dim=1)\n",
        "            all_predictions.extend(preds.cpu().tolist())\n",
        "            claim_ids.extend(batch[\"claim_id\"])\n",
        "\n",
        "    return claim_ids, all_predictions\n",
        "    \n"
      ]
    },
    {
      "cell_type": "code",
      "execution_count": 10,
      "metadata": {
        "colab": {
          "base_uri": "https://localhost:8080/",
          "height": 1000
        },
        "id": "bVIG40-gsEVC",
        "outputId": "6440d3bc-f4d2-477f-f02e-6911508ad3fb"
      },
      "outputs": [
        {
          "name": "stdout",
          "output_type": "stream",
          "text": [
            "Epoch 1/24\n",
            "----------\n"
          ]
        },
        {
          "name": "stderr",
          "output_type": "stream",
          "text": [
            "  8%|█████▋                                                                   | 6/77 [00:02<00:26,  2.68it/s]Be aware, overflowing tokens are not returned for the setting you have chosen, i.e. sequence pairs with the 'longest_first' truncation strategy. So the returned list will always be empty even if some tokens have been removed.\n",
            " 26%|██████████████████▋                                                     | 20/77 [00:07<00:18,  3.01it/s]Be aware, overflowing tokens are not returned for the setting you have chosen, i.e. sequence pairs with the 'longest_first' truncation strategy. So the returned list will always be empty even if some tokens have been removed.\n",
            " 52%|█████████████████████████████████████▍                                  | 40/77 [00:15<00:12,  2.85it/s]Be aware, overflowing tokens are not returned for the setting you have chosen, i.e. sequence pairs with the 'longest_first' truncation strategy. So the returned list will always be empty even if some tokens have been removed.\n",
            " 70%|██████████████████████████████████████████████████▍                     | 54/77 [00:20<00:07,  3.07it/s]Be aware, overflowing tokens are not returned for the setting you have chosen, i.e. sequence pairs with the 'longest_first' truncation strategy. So the returned list will always be empty even if some tokens have been removed.\n",
            "100%|████████████████████████████████████████████████████████████████████████| 77/77 [00:27<00:00,  2.77it/s]\n"
          ]
        },
        {
          "name": "stdout",
          "output_type": "stream",
          "text": [
            "Train Loss: 1.3618\n",
            "Train Accuracy: 0.3168\n",
            "Epoch 2/24\n",
            "----------\n"
          ]
        },
        {
          "name": "stderr",
          "output_type": "stream",
          "text": [
            " 12%|████████▌                                                                | 9/77 [00:02<00:22,  3.06it/s]Be aware, overflowing tokens are not returned for the setting you have chosen, i.e. sequence pairs with the 'longest_first' truncation strategy. So the returned list will always be empty even if some tokens have been removed.\n",
            " 16%|███████████▏                                                            | 12/77 [00:03<00:21,  3.03it/s]Be aware, overflowing tokens are not returned for the setting you have chosen, i.e. sequence pairs with the 'longest_first' truncation strategy. So the returned list will always be empty even if some tokens have been removed.\n",
            " 53%|██████████████████████████████████████▎                                 | 41/77 [00:13<00:12,  2.97it/s]Be aware, overflowing tokens are not returned for the setting you have chosen, i.e. sequence pairs with the 'longest_first' truncation strategy. So the returned list will always be empty even if some tokens have been removed.\n",
            " 84%|████████████████████████████████████████████████████████████▊           | 65/77 [00:23<00:04,  2.97it/s]Be aware, overflowing tokens are not returned for the setting you have chosen, i.e. sequence pairs with the 'longest_first' truncation strategy. So the returned list will always be empty even if some tokens have been removed.\n",
            "100%|████████████████████████████████████████████████████████████████████████| 77/77 [00:27<00:00,  2.81it/s]\n"
          ]
        },
        {
          "name": "stdout",
          "output_type": "stream",
          "text": [
            "Train Loss: 1.1632\n",
            "Train Accuracy: 0.5171\n",
            "Epoch 3/24\n",
            "----------\n"
          ]
        },
        {
          "name": "stderr",
          "output_type": "stream",
          "text": [
            "  5%|███▊                                                                     | 4/77 [00:01<00:23,  3.11it/s]Be aware, overflowing tokens are not returned for the setting you have chosen, i.e. sequence pairs with the 'longest_first' truncation strategy. So the returned list will always be empty even if some tokens have been removed.\n",
            " 47%|█████████████████████████████████▋                                      | 36/77 [00:11<00:13,  2.99it/s]Be aware, overflowing tokens are not returned for the setting you have chosen, i.e. sequence pairs with the 'longest_first' truncation strategy. So the returned list will always be empty even if some tokens have been removed.\n",
            " 64%|█████████████████████████████████████████████▊                          | 49/77 [00:16<00:09,  2.99it/s]Be aware, overflowing tokens are not returned for the setting you have chosen, i.e. sequence pairs with the 'longest_first' truncation strategy. So the returned list will always be empty even if some tokens have been removed.\n",
            " 84%|████████████████████████████████████████████████████████████▊           | 65/77 [00:21<00:04,  2.92it/s]Be aware, overflowing tokens are not returned for the setting you have chosen, i.e. sequence pairs with the 'longest_first' truncation strategy. So the returned list will always be empty even if some tokens have been removed.\n",
            "100%|████████████████████████████████████████████████████████████████████████| 77/77 [00:27<00:00,  2.82it/s]\n"
          ]
        },
        {
          "name": "stdout",
          "output_type": "stream",
          "text": [
            "Train Loss: 0.9919\n",
            "Train Accuracy: 0.6262\n",
            "Epoch 4/24\n",
            "----------\n"
          ]
        },
        {
          "name": "stderr",
          "output_type": "stream",
          "text": [
            " 32%|███████████████████████▍                                                | 25/77 [00:08<00:16,  3.06it/s]Be aware, overflowing tokens are not returned for the setting you have chosen, i.e. sequence pairs with the 'longest_first' truncation strategy. So the returned list will always be empty even if some tokens have been removed.\n",
            " 55%|███████████████████████████████████████▎                                | 42/77 [00:13<00:11,  3.10it/s]Be aware, overflowing tokens are not returned for the setting you have chosen, i.e. sequence pairs with the 'longest_first' truncation strategy. So the returned list will always be empty even if some tokens have been removed.\n",
            " 69%|█████████████████████████████████████████████████▌                      | 53/77 [00:17<00:07,  3.08it/s]Be aware, overflowing tokens are not returned for the setting you have chosen, i.e. sequence pairs with the 'longest_first' truncation strategy. So the returned list will always be empty even if some tokens have been removed.\n",
            " 71%|███████████████████████████████████████████████████▍                    | 55/77 [00:18<00:07,  3.08it/s]Be aware, overflowing tokens are not returned for the setting you have chosen, i.e. sequence pairs with the 'longest_first' truncation strategy. So the returned list will always be empty even if some tokens have been removed.\n",
            "100%|████████████████████████████████████████████████████████████████████████| 77/77 [00:25<00:00,  3.03it/s]\n"
          ]
        },
        {
          "name": "stdout",
          "output_type": "stream",
          "text": [
            "Train Loss: 0.9637\n",
            "Train Accuracy: 0.6221\n",
            "Epoch 5/24\n",
            "----------\n"
          ]
        },
        {
          "name": "stderr",
          "output_type": "stream",
          "text": [
            "  0%|                                                                                 | 0/77 [00:00<?, ?it/s]Be aware, overflowing tokens are not returned for the setting you have chosen, i.e. sequence pairs with the 'longest_first' truncation strategy. So the returned list will always be empty even if some tokens have been removed.\n",
            " 29%|████████████████████▌                                                   | 22/77 [00:09<00:22,  2.42it/s]Be aware, overflowing tokens are not returned for the setting you have chosen, i.e. sequence pairs with the 'longest_first' truncation strategy. So the returned list will always be empty even if some tokens have been removed.\n",
            " 40%|████████████████████████████▉                                           | 31/77 [00:12<00:15,  2.94it/s]Be aware, overflowing tokens are not returned for the setting you have chosen, i.e. sequence pairs with the 'longest_first' truncation strategy. So the returned list will always be empty even if some tokens have been removed.\n",
            " 90%|████████████████████████████████████████████████████████████████▌       | 69/77 [00:25<00:02,  2.98it/s]Be aware, overflowing tokens are not returned for the setting you have chosen, i.e. sequence pairs with the 'longest_first' truncation strategy. So the returned list will always be empty even if some tokens have been removed.\n",
            "100%|████████████████████████████████████████████████████████████████████████| 77/77 [00:27<00:00,  2.76it/s]\n"
          ]
        },
        {
          "name": "stdout",
          "output_type": "stream",
          "text": [
            "Train Loss: 0.8529\n",
            "Train Accuracy: 0.6604\n",
            "Epoch 6/24\n",
            "----------\n"
          ]
        },
        {
          "name": "stderr",
          "output_type": "stream",
          "text": [
            "  3%|█▉                                                                       | 2/77 [00:00<00:25,  2.99it/s]Be aware, overflowing tokens are not returned for the setting you have chosen, i.e. sequence pairs with the 'longest_first' truncation strategy. So the returned list will always be empty even if some tokens have been removed.\n",
            " 31%|██████████████████████▍                                                 | 24/77 [00:08<00:18,  2.92it/s]Be aware, overflowing tokens are not returned for the setting you have chosen, i.e. sequence pairs with the 'longest_first' truncation strategy. So the returned list will always be empty even if some tokens have been removed.\n",
            " 55%|███████████████████████████████████████▎                                | 42/77 [00:15<00:12,  2.70it/s]Be aware, overflowing tokens are not returned for the setting you have chosen, i.e. sequence pairs with the 'longest_first' truncation strategy. So the returned list will always be empty even if some tokens have been removed.\n",
            " 88%|███████████████████████████████████████████████████████████████▌        | 68/77 [00:24<00:03,  2.97it/s]Be aware, overflowing tokens are not returned for the setting you have chosen, i.e. sequence pairs with the 'longest_first' truncation strategy. So the returned list will always be empty even if some tokens have been removed.\n",
            "100%|████████████████████████████████████████████████████████████████████████| 77/77 [00:27<00:00,  2.82it/s]\n"
          ]
        },
        {
          "name": "stdout",
          "output_type": "stream",
          "text": [
            "Train Loss: 0.7979\n",
            "Train Accuracy: 0.6849\n",
            "Epoch 7/24\n",
            "----------\n"
          ]
        },
        {
          "name": "stderr",
          "output_type": "stream",
          "text": [
            " 19%|██████████████                                                          | 15/77 [00:05<00:20,  2.99it/s]Be aware, overflowing tokens are not returned for the setting you have chosen, i.e. sequence pairs with the 'longest_first' truncation strategy. So the returned list will always be empty even if some tokens have been removed.\n",
            " 61%|███████████████████████████████████████████▉                            | 47/77 [00:15<00:10,  2.94it/s]Be aware, overflowing tokens are not returned for the setting you have chosen, i.e. sequence pairs with the 'longest_first' truncation strategy. So the returned list will always be empty even if some tokens have been removed.\n",
            " 87%|██████████████████████████████████████████████████████████████▋         | 67/77 [00:24<00:03,  2.93it/s]Be aware, overflowing tokens are not returned for the setting you have chosen, i.e. sequence pairs with the 'longest_first' truncation strategy. So the returned list will always be empty even if some tokens have been removed.\n",
            " 94%|███████████████████████████████████████████████████████████████████▎    | 72/77 [00:25<00:01,  2.98it/s]Be aware, overflowing tokens are not returned for the setting you have chosen, i.e. sequence pairs with the 'longest_first' truncation strategy. So the returned list will always be empty even if some tokens have been removed.\n",
            "100%|████████████████████████████████████████████████████████████████████████| 77/77 [00:27<00:00,  2.81it/s]\n"
          ]
        },
        {
          "name": "stdout",
          "output_type": "stream",
          "text": [
            "Train Loss: 0.7574\n",
            "Train Accuracy: 0.7020\n",
            "Epoch 8/24\n",
            "----------\n"
          ]
        },
        {
          "name": "stderr",
          "output_type": "stream",
          "text": [
            " 53%|██████████████████████████████████████▎                                 | 41/77 [00:13<00:12,  2.98it/s]Be aware, overflowing tokens are not returned for the setting you have chosen, i.e. sequence pairs with the 'longest_first' truncation strategy. So the returned list will always be empty even if some tokens have been removed.\n",
            " 56%|████████████████████████████████████████▏                               | 43/77 [00:14<00:11,  2.99it/s]Be aware, overflowing tokens are not returned for the setting you have chosen, i.e. sequence pairs with the 'longest_first' truncation strategy. So the returned list will always be empty even if some tokens have been removed.\n",
            " 57%|█████████████████████████████████████████▏                              | 44/77 [00:14<00:11,  2.98it/s]Be aware, overflowing tokens are not returned for the setting you have chosen, i.e. sequence pairs with the 'longest_first' truncation strategy. So the returned list will always be empty even if some tokens have been removed.\n",
            " 95%|████████████████████████████████████████████████████████████████████▎   | 73/77 [00:24<00:01,  2.98it/s]Be aware, overflowing tokens are not returned for the setting you have chosen, i.e. sequence pairs with the 'longest_first' truncation strategy. So the returned list will always be empty even if some tokens have been removed.\n",
            "100%|████████████████████████████████████████████████████████████████████████| 77/77 [00:27<00:00,  2.80it/s]\n"
          ]
        },
        {
          "name": "stdout",
          "output_type": "stream",
          "text": [
            "Train Loss: 0.6954\n",
            "Train Accuracy: 0.7215\n",
            "Epoch 9/24\n",
            "----------\n"
          ]
        },
        {
          "name": "stderr",
          "output_type": "stream",
          "text": [
            " 36%|██████████████████████████▏                                             | 28/77 [00:09<00:16,  2.99it/s]Be aware, overflowing tokens are not returned for the setting you have chosen, i.e. sequence pairs with the 'longest_first' truncation strategy. So the returned list will always be empty even if some tokens have been removed.\n",
            " 47%|█████████████████████████████████▋                                      | 36/77 [00:12<00:13,  3.00it/s]Be aware, overflowing tokens are not returned for the setting you have chosen, i.e. sequence pairs with the 'longest_first' truncation strategy. So the returned list will always be empty even if some tokens have been removed.\n",
            " 65%|██████████████████████████████████████████████▊                         | 50/77 [00:16<00:09,  2.98it/s]Be aware, overflowing tokens are not returned for the setting you have chosen, i.e. sequence pairs with the 'longest_first' truncation strategy. So the returned list will always be empty even if some tokens have been removed.\n",
            " 94%|███████████████████████████████████████████████████████████████████▎    | 72/77 [00:24<00:01,  2.96it/s]Be aware, overflowing tokens are not returned for the setting you have chosen, i.e. sequence pairs with the 'longest_first' truncation strategy. So the returned list will always be empty even if some tokens have been removed.\n",
            "100%|████████████████████████████████████████████████████████████████████████| 77/77 [00:25<00:00,  2.99it/s]\n"
          ]
        },
        {
          "name": "stdout",
          "output_type": "stream",
          "text": [
            "Train Loss: 0.6568\n",
            "Train Accuracy: 0.7280\n",
            "Epoch 10/24\n",
            "----------\n"
          ]
        },
        {
          "name": "stderr",
          "output_type": "stream",
          "text": [
            " 35%|█████████████████████████▏                                              | 27/77 [00:10<00:17,  2.80it/s]Be aware, overflowing tokens are not returned for the setting you have chosen, i.e. sequence pairs with the 'longest_first' truncation strategy. So the returned list will always be empty even if some tokens have been removed.\n",
            " 49%|███████████████████████████████████▌                                    | 38/77 [00:14<00:13,  2.97it/s]Be aware, overflowing tokens are not returned for the setting you have chosen, i.e. sequence pairs with the 'longest_first' truncation strategy. So the returned list will always be empty even if some tokens have been removed.\n",
            " 53%|██████████████████████████████████████▎                                 | 41/77 [00:15<00:12,  2.99it/s]Be aware, overflowing tokens are not returned for the setting you have chosen, i.e. sequence pairs with the 'longest_first' truncation strategy. So the returned list will always be empty even if some tokens have been removed.\n",
            " 60%|███████████████████████████████████████████                             | 46/77 [00:17<00:10,  2.98it/s]Be aware, overflowing tokens are not returned for the setting you have chosen, i.e. sequence pairs with the 'longest_first' truncation strategy. So the returned list will always be empty even if some tokens have been removed.\n",
            "100%|████████████████████████████████████████████████████████████████████████| 77/77 [00:27<00:00,  2.81it/s]\n"
          ]
        },
        {
          "name": "stdout",
          "output_type": "stream",
          "text": [
            "Train Loss: 0.6197\n",
            "Train Accuracy: 0.7419\n",
            "Epoch 11/24\n",
            "----------\n"
          ]
        },
        {
          "name": "stderr",
          "output_type": "stream",
          "text": [
            " 13%|█████████▎                                                              | 10/77 [00:03<00:22,  3.00it/s]Be aware, overflowing tokens are not returned for the setting you have chosen, i.e. sequence pairs with the 'longest_first' truncation strategy. So the returned list will always be empty even if some tokens have been removed.\n",
            " 44%|███████████████████████████████▊                                        | 34/77 [00:11<00:14,  3.00it/s]Be aware, overflowing tokens are not returned for the setting you have chosen, i.e. sequence pairs with the 'longest_first' truncation strategy. So the returned list will always be empty even if some tokens have been removed.\n",
            " 69%|█████████████████████████████████████████████████▌                      | 53/77 [00:19<00:08,  2.98it/s]Be aware, overflowing tokens are not returned for the setting you have chosen, i.e. sequence pairs with the 'longest_first' truncation strategy. So the returned list will always be empty even if some tokens have been removed.\n",
            " 79%|█████████████████████████████████████████████████████████               | 61/77 [00:22<00:05,  2.98it/s]Be aware, overflowing tokens are not returned for the setting you have chosen, i.e. sequence pairs with the 'longest_first' truncation strategy. So the returned list will always be empty even if some tokens have been removed.\n",
            "100%|████████████████████████████████████████████████████████████████████████| 77/77 [00:27<00:00,  2.81it/s]\n"
          ]
        },
        {
          "name": "stdout",
          "output_type": "stream",
          "text": [
            "Train Loss: 0.5415\n",
            "Train Accuracy: 0.7850\n",
            "Epoch 12/24\n",
            "----------\n"
          ]
        },
        {
          "name": "stderr",
          "output_type": "stream",
          "text": [
            "  5%|███▊                                                                     | 4/77 [00:01<00:24,  3.01it/s]Be aware, overflowing tokens are not returned for the setting you have chosen, i.e. sequence pairs with the 'longest_first' truncation strategy. So the returned list will always be empty even if some tokens have been removed.\n",
            " 21%|██████████████▉                                                         | 16/77 [00:05<00:20,  2.98it/s]Be aware, overflowing tokens are not returned for the setting you have chosen, i.e. sequence pairs with the 'longest_first' truncation strategy. So the returned list will always be empty even if some tokens have been removed.\n",
            " 32%|███████████████████████▍                                                | 25/77 [00:08<00:17,  3.00it/s]Be aware, overflowing tokens are not returned for the setting you have chosen, i.e. sequence pairs with the 'longest_first' truncation strategy. So the returned list will always be empty even if some tokens have been removed.\n",
            " 75%|██████████████████████████████████████████████████████▏                 | 58/77 [00:21<00:15,  1.24it/s]Be aware, overflowing tokens are not returned for the setting you have chosen, i.e. sequence pairs with the 'longest_first' truncation strategy. So the returned list will always be empty even if some tokens have been removed.\n",
            "100%|████████████████████████████████████████████████████████████████████████| 77/77 [00:27<00:00,  2.81it/s]\n"
          ]
        },
        {
          "name": "stdout",
          "output_type": "stream",
          "text": [
            "Train Loss: 0.4751\n",
            "Train Accuracy: 0.8103\n",
            "Epoch 13/24\n",
            "----------\n"
          ]
        },
        {
          "name": "stderr",
          "output_type": "stream",
          "text": [
            " 34%|████████████████████████▎                                               | 26/77 [00:08<00:17,  2.99it/s]Be aware, overflowing tokens are not returned for the setting you have chosen, i.e. sequence pairs with the 'longest_first' truncation strategy. So the returned list will always be empty even if some tokens have been removed.\n",
            " 83%|███████████████████████████████████████████████████████████▊            | 64/77 [00:21<00:04,  3.00it/s]Be aware, overflowing tokens are not returned for the setting you have chosen, i.e. sequence pairs with the 'longest_first' truncation strategy. So the returned list will always be empty even if some tokens have been removed.\n",
            " 87%|██████████████████████████████████████████████████████████████▋         | 67/77 [00:22<00:03,  3.00it/s]Be aware, overflowing tokens are not returned for the setting you have chosen, i.e. sequence pairs with the 'longest_first' truncation strategy. So the returned list will always be empty even if some tokens have been removed.\n",
            " 99%|███████████████████████████████████████████████████████████████████████ | 76/77 [00:25<00:00,  2.93it/s]Be aware, overflowing tokens are not returned for the setting you have chosen, i.e. sequence pairs with the 'longest_first' truncation strategy. So the returned list will always be empty even if some tokens have been removed.\n",
            "100%|████████████████████████████████████████████████████████████████████████| 77/77 [00:25<00:00,  2.99it/s]\n"
          ]
        },
        {
          "name": "stdout",
          "output_type": "stream",
          "text": [
            "Train Loss: 0.4115\n",
            "Train Accuracy: 0.8502\n",
            "Epoch 14/24\n",
            "----------\n"
          ]
        },
        {
          "name": "stderr",
          "output_type": "stream",
          "text": [
            " 17%|████████████▏                                                           | 13/77 [00:05<00:21,  2.94it/s]Be aware, overflowing tokens are not returned for the setting you have chosen, i.e. sequence pairs with the 'longest_first' truncation strategy. So the returned list will always be empty even if some tokens have been removed.\n",
            " 30%|█████████████████████▌                                                  | 23/77 [00:09<00:18,  3.00it/s]Be aware, overflowing tokens are not returned for the setting you have chosen, i.e. sequence pairs with the 'longest_first' truncation strategy. So the returned list will always be empty even if some tokens have been removed.\n",
            " 71%|███████████████████████████████████████████████████▍                    | 55/77 [00:19<00:07,  2.97it/s]Be aware, overflowing tokens are not returned for the setting you have chosen, i.e. sequence pairs with the 'longest_first' truncation strategy. So the returned list will always be empty even if some tokens have been removed.\n",
            " 95%|████████████████████████████████████████████████████████████████████▎   | 73/77 [00:26<00:01,  2.97it/s]Be aware, overflowing tokens are not returned for the setting you have chosen, i.e. sequence pairs with the 'longest_first' truncation strategy. So the returned list will always be empty even if some tokens have been removed.\n",
            "100%|████████████████████████████████████████████████████████████████████████| 77/77 [00:27<00:00,  2.82it/s]\n"
          ]
        },
        {
          "name": "stdout",
          "output_type": "stream",
          "text": [
            "Train Loss: 0.3672\n",
            "Train Accuracy: 0.8632\n",
            "Epoch 15/24\n",
            "----------\n"
          ]
        },
        {
          "name": "stderr",
          "output_type": "stream",
          "text": [
            " 36%|██████████████████████████▏                                             | 28/77 [00:11<00:18,  2.61it/s]Be aware, overflowing tokens are not returned for the setting you have chosen, i.e. sequence pairs with the 'longest_first' truncation strategy. So the returned list will always be empty even if some tokens have been removed.\n",
            " 53%|██████████████████████████████████████▎                                 | 41/77 [00:15<00:12,  2.99it/s]Be aware, overflowing tokens are not returned for the setting you have chosen, i.e. sequence pairs with the 'longest_first' truncation strategy. So the returned list will always be empty even if some tokens have been removed.\n",
            " 60%|███████████████████████████████████████████                             | 46/77 [00:17<00:10,  3.00it/s]Be aware, overflowing tokens are not returned for the setting you have chosen, i.e. sequence pairs with the 'longest_first' truncation strategy. So the returned list will always be empty even if some tokens have been removed.\n",
            " 79%|█████████████████████████████████████████████████████████               | 61/77 [00:22<00:05,  3.00it/s]Be aware, overflowing tokens are not returned for the setting you have chosen, i.e. sequence pairs with the 'longest_first' truncation strategy. So the returned list will always be empty even if some tokens have been removed.\n",
            "100%|████████████████████████████████████████████████████████████████████████| 77/77 [00:27<00:00,  2.80it/s]\n"
          ]
        },
        {
          "name": "stdout",
          "output_type": "stream",
          "text": [
            "Train Loss: 0.3372\n",
            "Train Accuracy: 0.8730\n",
            "Epoch 16/24\n",
            "----------\n"
          ]
        },
        {
          "name": "stderr",
          "output_type": "stream",
          "text": [
            "  1%|▉                                                                        | 1/77 [00:00<00:25,  2.99it/s]Be aware, overflowing tokens are not returned for the setting you have chosen, i.e. sequence pairs with the 'longest_first' truncation strategy. So the returned list will always be empty even if some tokens have been removed.\n",
            " 12%|████████▌                                                                | 9/77 [00:03<00:22,  3.00it/s]Be aware, overflowing tokens are not returned for the setting you have chosen, i.e. sequence pairs with the 'longest_first' truncation strategy. So the returned list will always be empty even if some tokens have been removed.\n",
            " 45%|████████████████████████████████▋                                       | 35/77 [00:11<00:14,  3.00it/s]Be aware, overflowing tokens are not returned for the setting you have chosen, i.e. sequence pairs with the 'longest_first' truncation strategy. So the returned list will always be empty even if some tokens have been removed.\n",
            " 68%|████████████████████████████████████████████████▌                       | 52/77 [00:17<00:08,  2.98it/s]Be aware, overflowing tokens are not returned for the setting you have chosen, i.e. sequence pairs with the 'longest_first' truncation strategy. So the returned list will always be empty even if some tokens have been removed.\n",
            "100%|████████████████████████████████████████████████████████████████████████| 77/77 [00:25<00:00,  2.99it/s]\n"
          ]
        },
        {
          "name": "stdout",
          "output_type": "stream",
          "text": [
            "Train Loss: 0.2720\n",
            "Train Accuracy: 0.9015\n",
            "Epoch 17/24\n",
            "----------\n"
          ]
        },
        {
          "name": "stderr",
          "output_type": "stream",
          "text": [
            " 12%|████████▌                                                                | 9/77 [00:03<00:22,  2.98it/s]Be aware, overflowing tokens are not returned for the setting you have chosen, i.e. sequence pairs with the 'longest_first' truncation strategy. So the returned list will always be empty even if some tokens have been removed.\n",
            " 39%|████████████████████████████                                            | 30/77 [00:10<00:15,  2.97it/s]Be aware, overflowing tokens are not returned for the setting you have chosen, i.e. sequence pairs with the 'longest_first' truncation strategy. So the returned list will always be empty even if some tokens have been removed.\n",
            " 75%|██████████████████████████████████████████████████████▏                 | 58/77 [00:19<00:06,  2.92it/s]Be aware, overflowing tokens are not returned for the setting you have chosen, i.e. sequence pairs with the 'longest_first' truncation strategy. So the returned list will always be empty even if some tokens have been removed.\n",
            " 82%|██████████████████████████████████████████████████████████▉             | 63/77 [00:21<00:04,  2.98it/s]Be aware, overflowing tokens are not returned for the setting you have chosen, i.e. sequence pairs with the 'longest_first' truncation strategy. So the returned list will always be empty even if some tokens have been removed.\n",
            "100%|████████████████████████████████████████████████████████████████████████| 77/77 [00:29<00:00,  2.64it/s]\n"
          ]
        },
        {
          "name": "stdout",
          "output_type": "stream",
          "text": [
            "Train Loss: 0.2343\n",
            "Train Accuracy: 0.9194\n",
            "Epoch 18/24\n",
            "----------\n"
          ]
        },
        {
          "name": "stderr",
          "output_type": "stream",
          "text": [
            " 16%|███████████▏                                                            | 12/77 [00:04<00:22,  2.92it/s]Be aware, overflowing tokens are not returned for the setting you have chosen, i.e. sequence pairs with the 'longest_first' truncation strategy. So the returned list will always be empty even if some tokens have been removed.\n",
            " 19%|██████████████                                                          | 15/77 [00:05<00:21,  2.93it/s]Be aware, overflowing tokens are not returned for the setting you have chosen, i.e. sequence pairs with the 'longest_first' truncation strategy. So the returned list will always be empty even if some tokens have been removed.\n",
            " 48%|██████████████████████████████████▌                                     | 37/77 [00:12<00:13,  2.93it/s]Be aware, overflowing tokens are not returned for the setting you have chosen, i.e. sequence pairs with the 'longest_first' truncation strategy. So the returned list will always be empty even if some tokens have been removed.\n",
            " 95%|████████████████████████████████████████████████████████████████████▎   | 73/77 [00:24<00:01,  3.00it/s]Be aware, overflowing tokens are not returned for the setting you have chosen, i.e. sequence pairs with the 'longest_first' truncation strategy. So the returned list will always be empty even if some tokens have been removed.\n",
            "100%|████████████████████████████████████████████████████████████████████████| 77/77 [00:25<00:00,  2.98it/s]\n"
          ]
        },
        {
          "name": "stdout",
          "output_type": "stream",
          "text": [
            "Train Loss: 0.2212\n",
            "Train Accuracy: 0.9275\n",
            "Epoch 19/24\n",
            "----------\n"
          ]
        },
        {
          "name": "stderr",
          "output_type": "stream",
          "text": [
            " 14%|██████████▎                                                             | 11/77 [00:03<00:22,  3.00it/s]Be aware, overflowing tokens are not returned for the setting you have chosen, i.e. sequence pairs with the 'longest_first' truncation strategy. So the returned list will always be empty even if some tokens have been removed.\n",
            " 68%|████████████████████████████████████████████████▌                       | 52/77 [00:18<00:08,  2.98it/s]Be aware, overflowing tokens are not returned for the setting you have chosen, i.e. sequence pairs with the 'longest_first' truncation strategy. So the returned list will always be empty even if some tokens have been removed.\n",
            " 79%|█████████████████████████████████████████████████████████               | 61/77 [00:22<00:05,  2.98it/s]Be aware, overflowing tokens are not returned for the setting you have chosen, i.e. sequence pairs with the 'longest_first' truncation strategy. So the returned list will always be empty even if some tokens have been removed.\n",
            " 87%|██████████████████████████████████████████████████████████████▋         | 67/77 [00:24<00:03,  2.99it/s]Be aware, overflowing tokens are not returned for the setting you have chosen, i.e. sequence pairs with the 'longest_first' truncation strategy. So the returned list will always be empty even if some tokens have been removed.\n",
            "100%|████████████████████████████████████████████████████████████████████████| 77/77 [00:27<00:00,  2.82it/s]\n"
          ]
        },
        {
          "name": "stdout",
          "output_type": "stream",
          "text": [
            "Train Loss: 0.1975\n",
            "Train Accuracy: 0.9357\n",
            "Epoch 20/24\n",
            "----------\n"
          ]
        },
        {
          "name": "stderr",
          "output_type": "stream",
          "text": [
            " 27%|███████████████████▋                                                    | 21/77 [00:07<00:18,  3.00it/s]Be aware, overflowing tokens are not returned for the setting you have chosen, i.e. sequence pairs with the 'longest_first' truncation strategy. So the returned list will always be empty even if some tokens have been removed.\n",
            " 61%|███████████████████████████████████████████▉                            | 47/77 [00:17<00:10,  2.99it/s]Be aware, overflowing tokens are not returned for the setting you have chosen, i.e. sequence pairs with the 'longest_first' truncation strategy. So the returned list will always be empty even if some tokens have been removed.\n",
            " 62%|████████████████████████████████████████████▉                           | 48/77 [00:17<00:09,  2.99it/s]Be aware, overflowing tokens are not returned for the setting you have chosen, i.e. sequence pairs with the 'longest_first' truncation strategy. So the returned list will always be empty even if some tokens have been removed.\n",
            " 64%|█████████████████████████████████████████████▊                          | 49/77 [00:17<00:09,  2.99it/s]Be aware, overflowing tokens are not returned for the setting you have chosen, i.e. sequence pairs with the 'longest_first' truncation strategy. So the returned list will always be empty even if some tokens have been removed.\n",
            "100%|████████████████████████████████████████████████████████████████████████| 77/77 [00:27<00:00,  2.83it/s]\n"
          ]
        },
        {
          "name": "stdout",
          "output_type": "stream",
          "text": [
            "Train Loss: 0.1715\n",
            "Train Accuracy: 0.9511\n",
            "Epoch 21/24\n",
            "----------\n"
          ]
        },
        {
          "name": "stderr",
          "output_type": "stream",
          "text": [
            " 55%|███████████████████████████████████████▎                                | 42/77 [00:14<00:11,  2.99it/s]Be aware, overflowing tokens are not returned for the setting you have chosen, i.e. sequence pairs with the 'longest_first' truncation strategy. So the returned list will always be empty even if some tokens have been removed.\n",
            " 70%|██████████████████████████████████████████████████▍                     | 54/77 [00:19<00:16,  1.43it/s]Be aware, overflowing tokens are not returned for the setting you have chosen, i.e. sequence pairs with the 'longest_first' truncation strategy. So the returned list will always be empty even if some tokens have been removed.\n",
            " 77%|███████████████████████████████████████████████████████▏                | 59/77 [00:21<00:07,  2.54it/s]Be aware, overflowing tokens are not returned for the setting you have chosen, i.e. sequence pairs with the 'longest_first' truncation strategy. So the returned list will always be empty even if some tokens have been removed.\n",
            " 83%|███████████████████████████████████████████████████████████▊            | 64/77 [00:23<00:04,  2.86it/s]Be aware, overflowing tokens are not returned for the setting you have chosen, i.e. sequence pairs with the 'longest_first' truncation strategy. So the returned list will always be empty even if some tokens have been removed.\n",
            "100%|████████████████████████████████████████████████████████████████████████| 77/77 [00:27<00:00,  2.79it/s]\n"
          ]
        },
        {
          "name": "stdout",
          "output_type": "stream",
          "text": [
            "Train Loss: 0.1362\n",
            "Train Accuracy: 0.9642\n",
            "Epoch 22/24\n",
            "----------\n"
          ]
        },
        {
          "name": "stderr",
          "output_type": "stream",
          "text": [
            " 30%|█████████████████████▌                                                  | 23/77 [00:07<00:17,  3.01it/s]Be aware, overflowing tokens are not returned for the setting you have chosen, i.e. sequence pairs with the 'longest_first' truncation strategy. So the returned list will always be empty even if some tokens have been removed.\n",
            " 51%|████████████████████████████████████▍                                   | 39/77 [00:13<00:12,  3.02it/s]Be aware, overflowing tokens are not returned for the setting you have chosen, i.e. sequence pairs with the 'longest_first' truncation strategy. So the returned list will always be empty even if some tokens have been removed.\n",
            " 74%|█████████████████████████████████████████████████████▎                  | 57/77 [00:19<00:06,  2.97it/s]Be aware, overflowing tokens are not returned for the setting you have chosen, i.e. sequence pairs with the 'longest_first' truncation strategy. So the returned list will always be empty even if some tokens have been removed.\n",
            " 92%|██████████████████████████████████████████████████████████████████▍     | 71/77 [00:23<00:02,  2.98it/s]Be aware, overflowing tokens are not returned for the setting you have chosen, i.e. sequence pairs with the 'longest_first' truncation strategy. So the returned list will always be empty even if some tokens have been removed.\n",
            "100%|████████████████████████████████████████████████████████████████████████| 77/77 [00:27<00:00,  2.83it/s]\n"
          ]
        },
        {
          "name": "stdout",
          "output_type": "stream",
          "text": [
            "Train Loss: 0.1468\n",
            "Train Accuracy: 0.9568\n",
            "Epoch 23/24\n",
            "----------\n"
          ]
        },
        {
          "name": "stderr",
          "output_type": "stream",
          "text": [
            " 70%|██████████████████████████████████████████████████▍                     | 54/77 [00:18<00:07,  3.00it/s]Be aware, overflowing tokens are not returned for the setting you have chosen, i.e. sequence pairs with the 'longest_first' truncation strategy. So the returned list will always be empty even if some tokens have been removed.\n",
            "Be aware, overflowing tokens are not returned for the setting you have chosen, i.e. sequence pairs with the 'longest_first' truncation strategy. So the returned list will always be empty even if some tokens have been removed.\n",
            " 79%|█████████████████████████████████████████████████████████               | 61/77 [00:20<00:05,  3.01it/s]Be aware, overflowing tokens are not returned for the setting you have chosen, i.e. sequence pairs with the 'longest_first' truncation strategy. So the returned list will always be empty even if some tokens have been removed.\n",
            " 97%|██████████████████████████████████████████████████████████████████████▏ | 75/77 [00:25<00:00,  2.96it/s]Be aware, overflowing tokens are not returned for the setting you have chosen, i.e. sequence pairs with the 'longest_first' truncation strategy. So the returned list will always be empty even if some tokens have been removed.\n",
            "100%|████████████████████████████████████████████████████████████████████████| 77/77 [00:25<00:00,  2.99it/s]\n"
          ]
        },
        {
          "name": "stdout",
          "output_type": "stream",
          "text": [
            "Train Loss: 0.1337\n",
            "Train Accuracy: 0.9634\n",
            "Epoch 24/24\n",
            "----------\n"
          ]
        },
        {
          "name": "stderr",
          "output_type": "stream",
          "text": [
            "  6%|████▋                                                                    | 5/77 [00:01<00:24,  2.96it/s]Be aware, overflowing tokens are not returned for the setting you have chosen, i.e. sequence pairs with the 'longest_first' truncation strategy. So the returned list will always be empty even if some tokens have been removed.\n",
            " 34%|████████████████████████▎                                               | 26/77 [00:10<00:17,  2.87it/s]Be aware, overflowing tokens are not returned for the setting you have chosen, i.e. sequence pairs with the 'longest_first' truncation strategy. So the returned list will always be empty even if some tokens have been removed.\n",
            " 56%|████████████████████████████████████████▏                               | 43/77 [00:16<00:11,  2.99it/s]Be aware, overflowing tokens are not returned for the setting you have chosen, i.e. sequence pairs with the 'longest_first' truncation strategy. So the returned list will always be empty even if some tokens have been removed.\n",
            " 87%|██████████████████████████████████████████████████████████████▋         | 67/77 [00:24<00:03,  3.00it/s]Be aware, overflowing tokens are not returned for the setting you have chosen, i.e. sequence pairs with the 'longest_first' truncation strategy. So the returned list will always be empty even if some tokens have been removed.\n",
            "100%|████████████████████████████████████████████████████████████████████████| 77/77 [00:27<00:00,  2.82it/s]\n"
          ]
        },
        {
          "name": "stdout",
          "output_type": "stream",
          "text": [
            "Train Loss: 0.1100\n",
            "Train Accuracy: 0.9642\n"
          ]
        },
        {
          "name": "stderr",
          "output_type": "stream",
          "text": [
            "/tmp/ipykernel_7218/736255512.py:18: UserWarning: color is redundantly defined by the 'color' keyword argument and the fmt string \"bo-\" (-> color='b'). The keyword argument will take precedence.\n",
            "  plt.plot(epoch_list, train_losses_list, 'bo-', label=\"Training Loss\", color='blue')\n"
          ]
        },
        {
          "data": {
            "image/png": "[encoded data removed]",
            "text/plain": [
              "<Figure size 800x500 with 1 Axes>"
            ]
          },
          "metadata": {},
          "output_type": "display_data"
        },
        {
          "name": "stderr",
          "output_type": "stream",
          "text": [
            "/tmp/ipykernel_7218/736255512.py:28: UserWarning: color is redundantly defined by the 'color' keyword argument and the fmt string \"bo-\" (-> color='b'). The keyword argument will take precedence.\n",
            "  plt.plot(epoch_list, train_accuracies, 'bo-', label='Training Accuracy', color='green')\n"
          ]
        },
        {
          "data": {
            "image/png": "[encoded data removed]",
            "text/plain": [
              "<Figure size 800x500 with 1 Axes>"
            ]
          },
          "metadata": {},
          "output_type": "display_data"
        },
        {
          "name": "stdout",
          "output_type": "stream",
          "text": [
            "Final model saved to model_checkpoints/roberta_final.pt\n"
          ]
        }
      ],
      "source": [
        "#Training\n",
        "train_losses_list = []\n",
        "train_accuracies = []\n",
        "\n",
        "for epoch in range(epochs):\n",
        "    print(f'Epoch {epoch + 1}/{epochs}')\n",
        "    print('-' * 10)\n",
        "\n",
        "    train_loss, accuracy = training(train_dataloader, model, optimizer, scheduler, scaler, device)\n",
        "    print(f'Train Loss: {train_loss:.4f}'),\n",
        "    print(f'Train Accuracy: {accuracy:.4f}')\n",
        "\n",
        "    train_losses_list.append(train_loss)\n",
        "    train_accuracies.append(accuracy)\n",
        "\n",
        "epoch_list = range(1, len(train_accuracies) + 1)\n",
        "plt.figure(figsize=(8, 5))\n",
        "plt.plot(epoch_list, train_losses_list, 'bo-', label=\"Training Loss\", color='blue')\n",
        "plt.xlabel(\"Step\")\n",
        "plt.ylabel(\"Loss\")\n",
        "plt.title(\"Loss During Training\")\n",
        "plt.legend()\n",
        "plt.grid(True)\n",
        "plt.tight_layout()\n",
        "plt.show()\n",
        "\n",
        "plt.figure(figsize=(8, 5))\n",
        "plt.plot(epoch_list, train_accuracies, 'bo-', label='Training Accuracy', color='green')\n",
        "plt.xlabel('Epoch')\n",
        "plt.ylabel('Accuracy')\n",
        "plt.title('Training Accuracy over Epochs')\n",
        "plt.legend()\n",
        "plt.grid(True)\n",
        "plt.tight_layout()\n",
        "plt.show()\n",
        "\n",
        "#Save the final model\n",
        "save_path = \"model_checkpoints/roberta_final.pt\"\n",
        "torch.save({\n",
        "    'model_state_dict': model.state_dict(),\n",
        "    'optimizer_state_dict': optimizer.state_dict(),\n",
        "    'scaler_state_dict': scaler.state_dict(),\n",
        "    'scheduler_state_dict': scheduler.state_dict(),\n",
        "    'epoch': epochs,\n",
        "    'loss': train_loss\n",
        "}, save_path)\n",
        "\n",
        "print(f\"Final model saved to {save_path}\")\n",
        "torch.cuda.empty_cache()\n"
      ]
    },
    {
      "cell_type": "markdown",
      "metadata": {
        "id": "EzGuzHPE87Ya"
      },
      "source": [
        "# 3.Testing and Evaluation\n",
        "(You can add as many code blocks and text blocks as you need. However, YOU SHOULD NOT MODIFY the section title)"
      ]
    },
    {
      "cell_type": "code",
      "execution_count": null,
      "metadata": {
        "id": "6ZVeNYIH9IaL"
      },
      "outputs": [],
      "source": [
        "#(!!!Deprecated!!!)Colbert Retrieval\n",
        "checkpoint = \"colbert-ir/colbertv2.0\"\n",
        "index_name = \"evidence_index\"\n",
        "doc_maxlen = 180\n",
        "searcher = Searcher(index=index_name, checkpoint=checkpoint, index_root=\"colbert/colab_run/indexes\")\n",
        "\n",
        "def retrieve(claim, k=10, threshould=2.0):\n",
        "    with torch.no_grad():\n",
        "        doc_ids, rank, scores = searcher.search(claim, k=k)\n",
        "\n",
        "        print(\"scores: \" , scores)\n",
        "        Top_score = scores[0]\n",
        "        print(doc_ids)\n",
        "\n",
        "        filtered = [\n",
        "            (doc_id, score)\n",
        "            for doc_id, score in zip(doc_ids, scores)\n",
        "            if score >= Top_score - threshould\n",
        "        ]\n",
        "\n",
        "        if not filtered:\n",
        "            return \"\"\n",
        "        \n",
        "        retrieved_text = \" \".join([\n",
        "            searcher.collection[doc_id].replace(\"\\n\", \" \").strip()\n",
        "            for doc_id, score in filtered\n",
        "        ])\n",
        "        return retrieved_text\n",
        "\n",
        "claim = \"Weather Channel co-founder John Coleman provided evidence that convincingly refutes the concept of anthropogenic global warming.\"\n",
        "retrieved_evidence = retrieve(claim)\n",
        "\n",
        "print(retrieved_evidence)"
      ]
    },
    {
      "cell_type": "code",
      "execution_count": null,
      "metadata": {},
      "outputs": [
        {
          "data": {
            "text/plain": [
              "'\\nclaim = {\"claim-2967\": {\"claim_text\": \"Tree-ring proxy reconstructions are reliable before 1960, tracking closely with the instrumental record and other independent proxies.\"}}\\nclaim_e5 = E5_retrieve(claim, E5_model,e5_index)\\nprint(claim_e5)\\n'"
            ]
          },
          "execution_count": 16,
          "metadata": {},
          "output_type": "execute_result"
        }
      ],
      "source": [
        "#E5 Retrieval， we used L2 distance and returned the similar evidences to the top one(based on epsilon).\n",
        "def E5_retrieve(claim, E5_model, index, epsilon=0.1, top_k=10, use_inner_product=True):\n",
        "    result = {}\n",
        "\n",
        "    for claim_id, info in claim.items():\n",
        "        claim_text = info[\"claim_text\"]\n",
        "        claim_emb = E5_model.encode(f\"query: {claim_text}\")\n",
        "\n",
        "        D, I = index.search(np.array([claim_emb]), k=top_k)\n",
        "\n",
        "        scores = D[0]\n",
        "        if not use_inner_product:\n",
        "            scores = -scores\n",
        "\n",
        "        indices = I[0]\n",
        "\n",
        "        best_score = max(scores)\n",
        "        relative_threshold = best_score - epsilon\n",
        "\n",
        "        passed = [(i, s) for i, s in zip(indices, scores) if s >= relative_threshold]\n",
        "\n",
        "        top_evid_ids = [evidence_ids[i] for i, _ in passed]\n",
        "\n",
        "        result[claim_id] = {\n",
        "            \"claim_text\": claim_text,\n",
        "            \"evidences\": top_evid_ids,\n",
        "        }\n",
        "\n",
        "    return result\n",
        "\n",
        "'''\n",
        "claim = {\"claim-2967\": {\"claim_text\": \"Tree-ring proxy reconstructions are reliable before 1960, tracking closely with the instrumental record and other independent proxies.\"}}\n",
        "claim_e5 = E5_retrieve(claim, E5_model,e5_index)\n",
        "print(claim_e5)\n",
        "'''\n"
      ]
    },
    {
      "cell_type": "code",
      "execution_count": 17,
      "metadata": {},
      "outputs": [
        {
          "name": "stdout",
          "output_type": "stream",
          "text": [
            "Model loaded successfully\n",
            "retrieved evidences finished\n"
          ]
        },
        {
          "name": "stderr",
          "output_type": "stream",
          "text": [
            "100%|████████████████████████████████████████████████████████████████████████████████████████████████████████████████████████████████████████████████████████████████████████████████████████████████████████| 10/10 [00:43<00:00,  4.37s/it]"
          ]
        },
        {
          "name": "stdout",
          "output_type": "stream",
          "text": [
            "validating finished\n"
          ]
        },
        {
          "name": "stderr",
          "output_type": "stream",
          "text": [
            "\n"
          ]
        }
      ],
      "source": [
        "e5_index = faiss.read_index(\"E5/e5_index.faiss\")\n",
        "E5_model = SentenceTransformer(\"e5_finetuned_co2\")\n",
        "checkpoint = torch.load(\"model_checkpoints/roberta_final.pt\", map_location='cuda') \n",
        "model.load_state_dict(checkpoint['model_state_dict'])\n",
        "\n",
        "print(\"Model loaded successfully\")\n",
        "\n",
        "model.eval()\n",
        "\n",
        "batch_size = 16\n",
        "\n",
        "val_data = E5_retrieve(dev_data, E5_model,e5_index)\n",
        "print(\"retrieved evidences finished\")\n",
        "\n",
        "valid_dataset = ClaimEvidenceDataset(val_data, evidence, tokenizer, if_train = False)\n",
        "valid_dataloader = DataLoader(valid_dataset, batch_size)\n",
        "\n",
        "id2label = {\n",
        "    0: \"SUPPORTS\",\n",
        "    1: \"REFUTES\",\n",
        "    2: \"NOT_ENOUGH_INFO\",\n",
        "    3: \"DISPUTED\"\n",
        "}\n",
        "\n",
        "claim_ids, predictions = validating(valid_dataloader, model, 'cuda')\n",
        "print(\"validating finished\")\n",
        "\n",
        "label_names = [id2label[p] for p in predictions]\n",
        "\n",
        "for cid, label in zip(claim_ids, label_names):\n",
        "    val_data[cid][\"claim_label\"] = label\n",
        "\n",
        "with open(\"data/dev-claims-test.json\", \"w\") as f:\n",
        "    json.dump(val_data, f)\n",
        "\n"
      ]
    },
    {
      "cell_type": "markdown",
      "metadata": {
        "id": "mefSOe8eTmGP"
      },
      "source": [
        "## Object Oriented Programming codes here\n",
        "\n",
        "*You can use multiple code snippets. Just add more if needed*"
      ]
    },
    {
      "cell_type": "markdown",
      "metadata": {},
      "source": []
    }
  ],
  "metadata": {
    "accelerator": "GPU",
    "colab": {
      "gpuType": "T4",
      "provenance": []
    },
    "kernelspec": {
      "display_name": "Python 3 (ipykernel)",
      "language": "python",
      "name": "python3"
    },
    "language_info": {
      "codemirror_mode": {
        "name": "ipython",
        "version": 3
      },
      "file_extension": ".py",
      "mimetype": "text/x-python",
      "name": "python",
      "nbconvert_exporter": "python",
      "pygments_lexer": "ipython3",
      "version": "3.8.19"
    },
    "widgets": {
      "application/vnd.jupyter.widget-state+json": {
        "002c48ec0cdd4900b72907b047a9fc7b": {
          "model_module": "@jupyter-widgets/controls",
          "model_module_version": "1.5.0",
          "model_name": "FloatProgressModel",
          "state": {
            "_dom_classes": [],
            "_model_module": "@jupyter-widgets/controls",
            "_model_module_version": "1.5.0",
            "_model_name": "FloatProgressModel",
            "_view_count": null,
            "_view_module": "@jupyter-widgets/controls",
            "_view_module_version": "1.5.0",
            "_view_name": "ProgressView",
            "bar_style": "success",
            "description": "",
            "description_tooltip": null,
            "layout": "IPY_MODEL_40f18f492f9648a78e2bf070e477b70f",
            "max": 1633,
            "min": 0,
            "orientation": "horizontal",
            "style": "IPY_MODEL_2a881435fbe441cfb748623a12d8e5bd",
            "value": 1633
          }
        },
        "02c4c6386ded4ee2a2894d2c254364af": {
          "model_module": "@jupyter-widgets/controls",
          "model_module_version": "1.5.0",
          "model_name": "DescriptionStyleModel",
          "state": {
            "_model_module": "@jupyter-widgets/controls",
            "_model_module_version": "1.5.0",
            "_model_name": "DescriptionStyleModel",
            "_view_count": null,
            "_view_module": "@jupyter-widgets/base",
            "_view_module_version": "1.2.0",
            "_view_name": "StyleView",
            "description_width": ""
          }
        },
        "12736ca950394f7fb6685046a5920fa5": {
          "model_module": "@jupyter-widgets/controls",
          "model_module_version": "1.5.0",
          "model_name": "ProgressStyleModel",
          "state": {
            "_model_module": "@jupyter-widgets/controls",
            "_model_module_version": "1.5.0",
            "_model_name": "ProgressStyleModel",
            "_view_count": null,
            "_view_module": "@jupyter-widgets/base",
            "_view_module_version": "1.2.0",
            "_view_name": "StyleView",
            "bar_color": null,
            "description_width": ""
          }
        },
        "12cdb4d29c7342e890b641bb6cee7ed3": {
          "model_module": "@jupyter-widgets/controls",
          "model_module_version": "1.5.0",
          "model_name": "HTMLModel",
          "state": {
            "_dom_classes": [],
            "_model_module": "@jupyter-widgets/controls",
            "_model_module_version": "1.5.0",
            "_model_name": "HTMLModel",
            "_view_count": null,
            "_view_module": "@jupyter-widgets/controls",
            "_view_module_version": "1.5.0",
            "_view_name": "HTMLView",
            "description": "",
            "description_tooltip": null,
            "layout": "IPY_MODEL_98cd58abc4db478686dddf218e1afb27",
            "placeholder": "​",
            "style": "IPY_MODEL_f48cac3943954d02b347c572ec7d847e",
            "value": " 1.63k/1.63k [00:00&lt;00:00, 33.3kB/s]"
          }
        },
        "133d7cb161bf4979acdfc3f6ecff8131": {
          "model_module": "@jupyter-widgets/controls",
          "model_module_version": "1.5.0",
          "model_name": "HBoxModel",
          "state": {
            "_dom_classes": [],
            "_model_module": "@jupyter-widgets/controls",
            "_model_module_version": "1.5.0",
            "_model_name": "HBoxModel",
            "_view_count": null,
            "_view_module": "@jupyter-widgets/controls",
            "_view_module_version": "1.5.0",
            "_view_name": "HBoxView",
            "box_style": "",
            "children": [
              "IPY_MODEL_d6edfebab2724125a1c553807d17c09d",
              "IPY_MODEL_002c48ec0cdd4900b72907b047a9fc7b",
              "IPY_MODEL_12cdb4d29c7342e890b641bb6cee7ed3"
            ],
            "layout": "IPY_MODEL_1c758f27d0d04e9d845e89b722d465a5"
          }
        },
        "16d990592d25497bbd9484eb4eb20500": {
          "model_module": "@jupyter-widgets/controls",
          "model_module_version": "1.5.0",
          "model_name": "DescriptionStyleModel",
          "state": {
            "_model_module": "@jupyter-widgets/controls",
            "_model_module_version": "1.5.0",
            "_model_name": "DescriptionStyleModel",
            "_view_count": null,
            "_view_module": "@jupyter-widgets/base",
            "_view_module_version": "1.2.0",
            "_view_name": "StyleView",
            "description_width": ""
          }
        },
        "1c758f27d0d04e9d845e89b722d465a5": {
          "model_module": "@jupyter-widgets/base",
          "model_module_version": "1.2.0",
          "model_name": "LayoutModel",
          "state": {
            "_model_module": "@jupyter-widgets/base",
            "_model_module_version": "1.2.0",
            "_model_name": "LayoutModel",
            "_view_count": null,
            "_view_module": "@jupyter-widgets/base",
            "_view_module_version": "1.2.0",
            "_view_name": "LayoutView",
            "align_content": null,
            "align_items": null,
            "align_self": null,
            "border": null,
            "bottom": null,
            "display": null,
            "flex": null,
            "flex_flow": null,
            "grid_area": null,
            "grid_auto_columns": null,
            "grid_auto_flow": null,
            "grid_auto_rows": null,
            "grid_column": null,
            "grid_gap": null,
            "grid_row": null,
            "grid_template_areas": null,
            "grid_template_columns": null,
            "grid_template_rows": null,
            "height": null,
            "justify_content": null,
            "justify_items": null,
            "left": null,
            "margin": null,
            "max_height": null,
            "max_width": null,
            "min_height": null,
            "min_width": null,
            "object_fit": null,
            "object_position": null,
            "order": null,
            "overflow": null,
            "overflow_x": null,
            "overflow_y": null,
            "padding": null,
            "right": null,
            "top": null,
            "visibility": null,
            "width": null
          }
        },
        "1c95fa4a745a4dfd9b33120c24448bbe": {
          "model_module": "@jupyter-widgets/base",
          "model_module_version": "1.2.0",
          "model_name": "LayoutModel",
          "state": {
            "_model_module": "@jupyter-widgets/base",
            "_model_module_version": "1.2.0",
            "_model_name": "LayoutModel",
            "_view_count": null,
            "_view_module": "@jupyter-widgets/base",
            "_view_module_version": "1.2.0",
            "_view_name": "LayoutView",
            "align_content": null,
            "align_items": null,
            "align_self": null,
            "border": null,
            "bottom": null,
            "display": null,
            "flex": null,
            "flex_flow": null,
            "grid_area": null,
            "grid_auto_columns": null,
            "grid_auto_flow": null,
            "grid_auto_rows": null,
            "grid_column": null,
            "grid_gap": null,
            "grid_row": null,
            "grid_template_areas": null,
            "grid_template_columns": null,
            "grid_template_rows": null,
            "height": null,
            "justify_content": null,
            "justify_items": null,
            "left": null,
            "margin": null,
            "max_height": null,
            "max_width": null,
            "min_height": null,
            "min_width": null,
            "object_fit": null,
            "object_position": null,
            "order": null,
            "overflow": null,
            "overflow_x": null,
            "overflow_y": null,
            "padding": null,
            "right": null,
            "top": null,
            "visibility": null,
            "width": null
          }
        },
        "1d26d3c5a7d84c6b9c6bfedf329ded59": {
          "model_module": "@jupyter-widgets/controls",
          "model_module_version": "1.5.0",
          "model_name": "HTMLModel",
          "state": {
            "_dom_classes": [],
            "_model_module": "@jupyter-widgets/controls",
            "_model_module_version": "1.5.0",
            "_model_name": "HTMLModel",
            "_view_count": null,
            "_view_module": "@jupyter-widgets/controls",
            "_view_module_version": "1.5.0",
            "_view_name": "HTMLView",
            "description": "",
            "description_tooltip": null,
            "layout": "IPY_MODEL_971bd4089232484995a80751b003c2f5",
            "placeholder": "​",
            "style": "IPY_MODEL_9a798d22aa774ada97da0025982c7663",
            "value": "config.json: 100%"
          }
        },
        "1e125460b66c4b48af3dee3918392d4f": {
          "model_module": "@jupyter-widgets/controls",
          "model_module_version": "1.5.0",
          "model_name": "HTMLModel",
          "state": {
            "_dom_classes": [],
            "_model_module": "@jupyter-widgets/controls",
            "_model_module_version": "1.5.0",
            "_model_name": "HTMLModel",
            "_view_count": null,
            "_view_module": "@jupyter-widgets/controls",
            "_view_module_version": "1.5.0",
            "_view_name": "HTMLView",
            "description": "",
            "description_tooltip": null,
            "layout": "IPY_MODEL_b4ec91b969c04c038086bead3013a97d",
            "placeholder": "​",
            "style": "IPY_MODEL_16d990592d25497bbd9484eb4eb20500",
            "value": " 899k/899k [00:00&lt;00:00, 5.75MB/s]"
          }
        },
        "1e82049a89df423980fe6fc8e4c846ff": {
          "model_module": "@jupyter-widgets/controls",
          "model_module_version": "1.5.0",
          "model_name": "HBoxModel",
          "state": {
            "_dom_classes": [],
            "_model_module": "@jupyter-widgets/controls",
            "_model_module_version": "1.5.0",
            "_model_name": "HBoxModel",
            "_view_count": null,
            "_view_module": "@jupyter-widgets/controls",
            "_view_module_version": "1.5.0",
            "_view_name": "HBoxView",
            "box_style": "",
            "children": [
              "IPY_MODEL_2b4df15969ab4fe3871ee437c962b8d7",
              "IPY_MODEL_3f3427876fec4a5bbafa144efcee9bd8",
              "IPY_MODEL_bf4567fd20b64b43847883dd1b4a4424"
            ],
            "layout": "IPY_MODEL_b31a7e3446034e4bb5ac1acc59c51c33"
          }
        },
        "2a881435fbe441cfb748623a12d8e5bd": {
          "model_module": "@jupyter-widgets/controls",
          "model_module_version": "1.5.0",
          "model_name": "ProgressStyleModel",
          "state": {
            "_model_module": "@jupyter-widgets/controls",
            "_model_module_version": "1.5.0",
            "_model_name": "ProgressStyleModel",
            "_view_count": null,
            "_view_module": "@jupyter-widgets/base",
            "_view_module_version": "1.2.0",
            "_view_name": "StyleView",
            "bar_color": null,
            "description_width": ""
          }
        },
        "2b4df15969ab4fe3871ee437c962b8d7": {
          "model_module": "@jupyter-widgets/controls",
          "model_module_version": "1.5.0",
          "model_name": "HTMLModel",
          "state": {
            "_dom_classes": [],
            "_model_module": "@jupyter-widgets/controls",
            "_model_module_version": "1.5.0",
            "_model_name": "HTMLModel",
            "_view_count": null,
            "_view_module": "@jupyter-widgets/controls",
            "_view_module_version": "1.5.0",
            "_view_name": "HTMLView",
            "description": "",
            "description_tooltip": null,
            "layout": "IPY_MODEL_be208507b0fa4f71bcc456818a587f3c",
            "placeholder": "​",
            "style": "IPY_MODEL_bcade70f610d42b49c32502cc7862819",
            "value": "merges.txt: 100%"
          }
        },
        "2cb0951923104314b2c4ca665e7568b9": {
          "model_module": "@jupyter-widgets/controls",
          "model_module_version": "1.5.0",
          "model_name": "HTMLModel",
          "state": {
            "_dom_classes": [],
            "_model_module": "@jupyter-widgets/controls",
            "_model_module_version": "1.5.0",
            "_model_name": "HTMLModel",
            "_view_count": null,
            "_view_module": "@jupyter-widgets/controls",
            "_view_module_version": "1.5.0",
            "_view_name": "HTMLView",
            "description": "",
            "description_tooltip": null,
            "layout": "IPY_MODEL_f1ad738769e74c6f89f28b205186bb92",
            "placeholder": "​",
            "style": "IPY_MODEL_b4a6ad933ed245e8b2095abf5f30ceee",
            "value": " 481/481 [00:00&lt;00:00, 50.4kB/s]"
          }
        },
        "2fe2234391f844ef800c86159355449f": {
          "model_module": "@jupyter-widgets/controls",
          "model_module_version": "1.5.0",
          "model_name": "HTMLModel",
          "state": {
            "_dom_classes": [],
            "_model_module": "@jupyter-widgets/controls",
            "_model_module_version": "1.5.0",
            "_model_name": "HTMLModel",
            "_view_count": null,
            "_view_module": "@jupyter-widgets/controls",
            "_view_module_version": "1.5.0",
            "_view_name": "HTMLView",
            "description": "",
            "description_tooltip": null,
            "layout": "IPY_MODEL_8132e461c9734fbc8c4c816073ca3175",
            "placeholder": "​",
            "style": "IPY_MODEL_5defd2c017634407a57d2ff7df0c5039",
            "value": " 25.0/25.0 [00:00&lt;00:00, 1.35kB/s]"
          }
        },
        "32d69ffb948349f0919d1a2a928997d5": {
          "model_module": "@jupyter-widgets/base",
          "model_module_version": "1.2.0",
          "model_name": "LayoutModel",
          "state": {
            "_model_module": "@jupyter-widgets/base",
            "_model_module_version": "1.2.0",
            "_model_name": "LayoutModel",
            "_view_count": null,
            "_view_module": "@jupyter-widgets/base",
            "_view_module_version": "1.2.0",
            "_view_name": "LayoutView",
            "align_content": null,
            "align_items": null,
            "align_self": null,
            "border": null,
            "bottom": null,
            "display": null,
            "flex": null,
            "flex_flow": null,
            "grid_area": null,
            "grid_auto_columns": null,
            "grid_auto_flow": null,
            "grid_auto_rows": null,
            "grid_column": null,
            "grid_gap": null,
            "grid_row": null,
            "grid_template_areas": null,
            "grid_template_columns": null,
            "grid_template_rows": null,
            "height": null,
            "justify_content": null,
            "justify_items": null,
            "left": null,
            "margin": null,
            "max_height": null,
            "max_width": null,
            "min_height": null,
            "min_width": null,
            "object_fit": null,
            "object_position": null,
            "order": null,
            "overflow": null,
            "overflow_x": null,
            "overflow_y": null,
            "padding": null,
            "right": null,
            "top": null,
            "visibility": null,
            "width": null
          }
        },
        "367264f623d94e4d8be9eabebd1ca226": {
          "model_module": "@jupyter-widgets/controls",
          "model_module_version": "1.5.0",
          "model_name": "HBoxModel",
          "state": {
            "_dom_classes": [],
            "_model_module": "@jupyter-widgets/controls",
            "_model_module_version": "1.5.0",
            "_model_name": "HBoxModel",
            "_view_count": null,
            "_view_module": "@jupyter-widgets/controls",
            "_view_module_version": "1.5.0",
            "_view_name": "HBoxView",
            "box_style": "",
            "children": [
              "IPY_MODEL_e5e7bcc2a8804c0198d7a48a0e13cbe1",
              "IPY_MODEL_c27e779078834dd6a741d68477826664",
              "IPY_MODEL_2fe2234391f844ef800c86159355449f"
            ],
            "layout": "IPY_MODEL_60e106cf8d924c31a6dbc0c263b38ec7"
          }
        },
        "3f3427876fec4a5bbafa144efcee9bd8": {
          "model_module": "@jupyter-widgets/controls",
          "model_module_version": "1.5.0",
          "model_name": "FloatProgressModel",
          "state": {
            "_dom_classes": [],
            "_model_module": "@jupyter-widgets/controls",
            "_model_module_version": "1.5.0",
            "_model_name": "FloatProgressModel",
            "_view_count": null,
            "_view_module": "@jupyter-widgets/controls",
            "_view_module_version": "1.5.0",
            "_view_name": "ProgressView",
            "bar_style": "success",
            "description": "",
            "description_tooltip": null,
            "layout": "IPY_MODEL_d16ee8e8255d4f058e166ef7f5a7d8f3",
            "max": 456318,
            "min": 0,
            "orientation": "horizontal",
            "style": "IPY_MODEL_92075ff64e3c4e689253ff8fe6d5f67f",
            "value": 456318
          }
        },
        "40f18f492f9648a78e2bf070e477b70f": {
          "model_module": "@jupyter-widgets/base",
          "model_module_version": "1.2.0",
          "model_name": "LayoutModel",
          "state": {
            "_model_module": "@jupyter-widgets/base",
            "_model_module_version": "1.2.0",
            "_model_name": "LayoutModel",
            "_view_count": null,
            "_view_module": "@jupyter-widgets/base",
            "_view_module_version": "1.2.0",
            "_view_name": "LayoutView",
            "align_content": null,
            "align_items": null,
            "align_self": null,
            "border": null,
            "bottom": null,
            "display": null,
            "flex": null,
            "flex_flow": null,
            "grid_area": null,
            "grid_auto_columns": null,
            "grid_auto_flow": null,
            "grid_auto_rows": null,
            "grid_column": null,
            "grid_gap": null,
            "grid_row": null,
            "grid_template_areas": null,
            "grid_template_columns": null,
            "grid_template_rows": null,
            "height": null,
            "justify_content": null,
            "justify_items": null,
            "left": null,
            "margin": null,
            "max_height": null,
            "max_width": null,
            "min_height": null,
            "min_width": null,
            "object_fit": null,
            "object_position": null,
            "order": null,
            "overflow": null,
            "overflow_x": null,
            "overflow_y": null,
            "padding": null,
            "right": null,
            "top": null,
            "visibility": null,
            "width": null
          }
        },
        "46598b9ffc2d47f7a995ba65c2d3a8e1": {
          "model_module": "@jupyter-widgets/base",
          "model_module_version": "1.2.0",
          "model_name": "LayoutModel",
          "state": {
            "_model_module": "@jupyter-widgets/base",
            "_model_module_version": "1.2.0",
            "_model_name": "LayoutModel",
            "_view_count": null,
            "_view_module": "@jupyter-widgets/base",
            "_view_module_version": "1.2.0",
            "_view_name": "LayoutView",
            "align_content": null,
            "align_items": null,
            "align_self": null,
            "border": null,
            "bottom": null,
            "display": null,
            "flex": null,
            "flex_flow": null,
            "grid_area": null,
            "grid_auto_columns": null,
            "grid_auto_flow": null,
            "grid_auto_rows": null,
            "grid_column": null,
            "grid_gap": null,
            "grid_row": null,
            "grid_template_areas": null,
            "grid_template_columns": null,
            "grid_template_rows": null,
            "height": null,
            "justify_content": null,
            "justify_items": null,
            "left": null,
            "margin": null,
            "max_height": null,
            "max_width": null,
            "min_height": null,
            "min_width": null,
            "object_fit": null,
            "object_position": null,
            "order": null,
            "overflow": null,
            "overflow_x": null,
            "overflow_y": null,
            "padding": null,
            "right": null,
            "top": null,
            "visibility": null,
            "width": null
          }
        },
        "49130da8317d40f1b8061f6cb280b46f": {
          "model_module": "@jupyter-widgets/controls",
          "model_module_version": "1.5.0",
          "model_name": "ProgressStyleModel",
          "state": {
            "_model_module": "@jupyter-widgets/controls",
            "_model_module_version": "1.5.0",
            "_model_name": "ProgressStyleModel",
            "_view_count": null,
            "_view_module": "@jupyter-widgets/base",
            "_view_module_version": "1.2.0",
            "_view_name": "StyleView",
            "bar_color": null,
            "description_width": ""
          }
        },
        "4a1ed44aa6b941d49b3ca88f94267a6c": {
          "model_module": "@jupyter-widgets/controls",
          "model_module_version": "1.5.0",
          "model_name": "FloatProgressModel",
          "state": {
            "_dom_classes": [],
            "_model_module": "@jupyter-widgets/controls",
            "_model_module_version": "1.5.0",
            "_model_name": "FloatProgressModel",
            "_view_count": null,
            "_view_module": "@jupyter-widgets/controls",
            "_view_module_version": "1.5.0",
            "_view_name": "ProgressView",
            "bar_style": "success",
            "description": "",
            "description_tooltip": null,
            "layout": "IPY_MODEL_9682ffda76544e70acdb7c8af53d6c79",
            "max": 898823,
            "min": 0,
            "orientation": "horizontal",
            "style": "IPY_MODEL_7a7a37941489447199398b53da761551",
            "value": 898823
          }
        },
        "4feb8757ef3448249e1d9eb40c37e7b7": {
          "model_module": "@jupyter-widgets/controls",
          "model_module_version": "1.5.0",
          "model_name": "FloatProgressModel",
          "state": {
            "_dom_classes": [],
            "_model_module": "@jupyter-widgets/controls",
            "_model_module_version": "1.5.0",
            "_model_name": "FloatProgressModel",
            "_view_count": null,
            "_view_module": "@jupyter-widgets/controls",
            "_view_module_version": "1.5.0",
            "_view_name": "ProgressView",
            "bar_style": "success",
            "description": "",
            "description_tooltip": null,
            "layout": "IPY_MODEL_46598b9ffc2d47f7a995ba65c2d3a8e1",
            "max": 481,
            "min": 0,
            "orientation": "horizontal",
            "style": "IPY_MODEL_49130da8317d40f1b8061f6cb280b46f",
            "value": 481
          }
        },
        "583c9b6ce7dc4301bccfd2af3e593405": {
          "model_module": "@jupyter-widgets/controls",
          "model_module_version": "1.5.0",
          "model_name": "DescriptionStyleModel",
          "state": {
            "_model_module": "@jupyter-widgets/controls",
            "_model_module_version": "1.5.0",
            "_model_name": "DescriptionStyleModel",
            "_view_count": null,
            "_view_module": "@jupyter-widgets/base",
            "_view_module_version": "1.2.0",
            "_view_name": "StyleView",
            "description_width": ""
          }
        },
        "5defd2c017634407a57d2ff7df0c5039": {
          "model_module": "@jupyter-widgets/controls",
          "model_module_version": "1.5.0",
          "model_name": "DescriptionStyleModel",
          "state": {
            "_model_module": "@jupyter-widgets/controls",
            "_model_module_version": "1.5.0",
            "_model_name": "DescriptionStyleModel",
            "_view_count": null,
            "_view_module": "@jupyter-widgets/base",
            "_view_module_version": "1.2.0",
            "_view_name": "StyleView",
            "description_width": ""
          }
        },
        "60e106cf8d924c31a6dbc0c263b38ec7": {
          "model_module": "@jupyter-widgets/base",
          "model_module_version": "1.2.0",
          "model_name": "LayoutModel",
          "state": {
            "_model_module": "@jupyter-widgets/base",
            "_model_module_version": "1.2.0",
            "_model_name": "LayoutModel",
            "_view_count": null,
            "_view_module": "@jupyter-widgets/base",
            "_view_module_version": "1.2.0",
            "_view_name": "LayoutView",
            "align_content": null,
            "align_items": null,
            "align_self": null,
            "border": null,
            "bottom": null,
            "display": null,
            "flex": null,
            "flex_flow": null,
            "grid_area": null,
            "grid_auto_columns": null,
            "grid_auto_flow": null,
            "grid_auto_rows": null,
            "grid_column": null,
            "grid_gap": null,
            "grid_row": null,
            "grid_template_areas": null,
            "grid_template_columns": null,
            "grid_template_rows": null,
            "height": null,
            "justify_content": null,
            "justify_items": null,
            "left": null,
            "margin": null,
            "max_height": null,
            "max_width": null,
            "min_height": null,
            "min_width": null,
            "object_fit": null,
            "object_position": null,
            "order": null,
            "overflow": null,
            "overflow_x": null,
            "overflow_y": null,
            "padding": null,
            "right": null,
            "top": null,
            "visibility": null,
            "width": null
          }
        },
        "6232ec7404c1405ba4a57969d086a045": {
          "model_module": "@jupyter-widgets/controls",
          "model_module_version": "1.5.0",
          "model_name": "FloatProgressModel",
          "state": {
            "_dom_classes": [],
            "_model_module": "@jupyter-widgets/controls",
            "_model_module_version": "1.5.0",
            "_model_name": "FloatProgressModel",
            "_view_count": null,
            "_view_module": "@jupyter-widgets/controls",
            "_view_module_version": "1.5.0",
            "_view_name": "ProgressView",
            "bar_style": "success",
            "description": "",
            "description_tooltip": null,
            "layout": "IPY_MODEL_6dc93ae23d1043c89b33bbbaeea166f6",
            "max": 1355863,
            "min": 0,
            "orientation": "horizontal",
            "style": "IPY_MODEL_cbc96faebbd5428bbd51c73cc66ba5ad",
            "value": 1355863
          }
        },
        "6dc93ae23d1043c89b33bbbaeea166f6": {
          "model_module": "@jupyter-widgets/base",
          "model_module_version": "1.2.0",
          "model_name": "LayoutModel",
          "state": {
            "_model_module": "@jupyter-widgets/base",
            "_model_module_version": "1.2.0",
            "_model_name": "LayoutModel",
            "_view_count": null,
            "_view_module": "@jupyter-widgets/base",
            "_view_module_version": "1.2.0",
            "_view_name": "LayoutView",
            "align_content": null,
            "align_items": null,
            "align_self": null,
            "border": null,
            "bottom": null,
            "display": null,
            "flex": null,
            "flex_flow": null,
            "grid_area": null,
            "grid_auto_columns": null,
            "grid_auto_flow": null,
            "grid_auto_rows": null,
            "grid_column": null,
            "grid_gap": null,
            "grid_row": null,
            "grid_template_areas": null,
            "grid_template_columns": null,
            "grid_template_rows": null,
            "height": null,
            "justify_content": null,
            "justify_items": null,
            "left": null,
            "margin": null,
            "max_height": null,
            "max_width": null,
            "min_height": null,
            "min_width": null,
            "object_fit": null,
            "object_position": null,
            "order": null,
            "overflow": null,
            "overflow_x": null,
            "overflow_y": null,
            "padding": null,
            "right": null,
            "top": null,
            "visibility": null,
            "width": null
          }
        },
        "7a7a37941489447199398b53da761551": {
          "model_module": "@jupyter-widgets/controls",
          "model_module_version": "1.5.0",
          "model_name": "ProgressStyleModel",
          "state": {
            "_model_module": "@jupyter-widgets/controls",
            "_model_module_version": "1.5.0",
            "_model_name": "ProgressStyleModel",
            "_view_count": null,
            "_view_module": "@jupyter-widgets/base",
            "_view_module_version": "1.2.0",
            "_view_name": "StyleView",
            "bar_color": null,
            "description_width": ""
          }
        },
        "8132e461c9734fbc8c4c816073ca3175": {
          "model_module": "@jupyter-widgets/base",
          "model_module_version": "1.2.0",
          "model_name": "LayoutModel",
          "state": {
            "_model_module": "@jupyter-widgets/base",
            "_model_module_version": "1.2.0",
            "_model_name": "LayoutModel",
            "_view_count": null,
            "_view_module": "@jupyter-widgets/base",
            "_view_module_version": "1.2.0",
            "_view_name": "LayoutView",
            "align_content": null,
            "align_items": null,
            "align_self": null,
            "border": null,
            "bottom": null,
            "display": null,
            "flex": null,
            "flex_flow": null,
            "grid_area": null,
            "grid_auto_columns": null,
            "grid_auto_flow": null,
            "grid_auto_rows": null,
            "grid_column": null,
            "grid_gap": null,
            "grid_row": null,
            "grid_template_areas": null,
            "grid_template_columns": null,
            "grid_template_rows": null,
            "height": null,
            "justify_content": null,
            "justify_items": null,
            "left": null,
            "margin": null,
            "max_height": null,
            "max_width": null,
            "min_height": null,
            "min_width": null,
            "object_fit": null,
            "object_position": null,
            "order": null,
            "overflow": null,
            "overflow_x": null,
            "overflow_y": null,
            "padding": null,
            "right": null,
            "top": null,
            "visibility": null,
            "width": null
          }
        },
        "87b88de3fef24a1faf2e7288702a51b2": {
          "model_module": "@jupyter-widgets/controls",
          "model_module_version": "1.5.0",
          "model_name": "HBoxModel",
          "state": {
            "_dom_classes": [],
            "_model_module": "@jupyter-widgets/controls",
            "_model_module_version": "1.5.0",
            "_model_name": "HBoxModel",
            "_view_count": null,
            "_view_module": "@jupyter-widgets/controls",
            "_view_module_version": "1.5.0",
            "_view_name": "HBoxView",
            "box_style": "",
            "children": [
              "IPY_MODEL_bba856a3b15745c592d060f26b5d05ba",
              "IPY_MODEL_4a1ed44aa6b941d49b3ca88f94267a6c",
              "IPY_MODEL_1e125460b66c4b48af3dee3918392d4f"
            ],
            "layout": "IPY_MODEL_f058f580098e4942b4e0d9a239b298d4"
          }
        },
        "8cbde1ce4a4a46db9cf4b0e0ff527142": {
          "model_module": "@jupyter-widgets/controls",
          "model_module_version": "1.5.0",
          "model_name": "HBoxModel",
          "state": {
            "_dom_classes": [],
            "_model_module": "@jupyter-widgets/controls",
            "_model_module_version": "1.5.0",
            "_model_name": "HBoxModel",
            "_view_count": null,
            "_view_module": "@jupyter-widgets/controls",
            "_view_module_version": "1.5.0",
            "_view_name": "HBoxView",
            "box_style": "",
            "children": [
              "IPY_MODEL_1d26d3c5a7d84c6b9c6bfedf329ded59",
              "IPY_MODEL_4feb8757ef3448249e1d9eb40c37e7b7",
              "IPY_MODEL_2cb0951923104314b2c4ca665e7568b9"
            ],
            "layout": "IPY_MODEL_a8ca717f0dc240ffba89beafd9e5549c"
          }
        },
        "92075ff64e3c4e689253ff8fe6d5f67f": {
          "model_module": "@jupyter-widgets/controls",
          "model_module_version": "1.5.0",
          "model_name": "ProgressStyleModel",
          "state": {
            "_model_module": "@jupyter-widgets/controls",
            "_model_module_version": "1.5.0",
            "_model_name": "ProgressStyleModel",
            "_view_count": null,
            "_view_module": "@jupyter-widgets/base",
            "_view_module_version": "1.2.0",
            "_view_name": "StyleView",
            "bar_color": null,
            "description_width": ""
          }
        },
        "9682ffda76544e70acdb7c8af53d6c79": {
          "model_module": "@jupyter-widgets/base",
          "model_module_version": "1.2.0",
          "model_name": "LayoutModel",
          "state": {
            "_model_module": "@jupyter-widgets/base",
            "_model_module_version": "1.2.0",
            "_model_name": "LayoutModel",
            "_view_count": null,
            "_view_module": "@jupyter-widgets/base",
            "_view_module_version": "1.2.0",
            "_view_name": "LayoutView",
            "align_content": null,
            "align_items": null,
            "align_self": null,
            "border": null,
            "bottom": null,
            "display": null,
            "flex": null,
            "flex_flow": null,
            "grid_area": null,
            "grid_auto_columns": null,
            "grid_auto_flow": null,
            "grid_auto_rows": null,
            "grid_column": null,
            "grid_gap": null,
            "grid_row": null,
            "grid_template_areas": null,
            "grid_template_columns": null,
            "grid_template_rows": null,
            "height": null,
            "justify_content": null,
            "justify_items": null,
            "left": null,
            "margin": null,
            "max_height": null,
            "max_width": null,
            "min_height": null,
            "min_width": null,
            "object_fit": null,
            "object_position": null,
            "order": null,
            "overflow": null,
            "overflow_x": null,
            "overflow_y": null,
            "padding": null,
            "right": null,
            "top": null,
            "visibility": null,
            "width": null
          }
        },
        "971bd4089232484995a80751b003c2f5": {
          "model_module": "@jupyter-widgets/base",
          "model_module_version": "1.2.0",
          "model_name": "LayoutModel",
          "state": {
            "_model_module": "@jupyter-widgets/base",
            "_model_module_version": "1.2.0",
            "_model_name": "LayoutModel",
            "_view_count": null,
            "_view_module": "@jupyter-widgets/base",
            "_view_module_version": "1.2.0",
            "_view_name": "LayoutView",
            "align_content": null,
            "align_items": null,
            "align_self": null,
            "border": null,
            "bottom": null,
            "display": null,
            "flex": null,
            "flex_flow": null,
            "grid_area": null,
            "grid_auto_columns": null,
            "grid_auto_flow": null,
            "grid_auto_rows": null,
            "grid_column": null,
            "grid_gap": null,
            "grid_row": null,
            "grid_template_areas": null,
            "grid_template_columns": null,
            "grid_template_rows": null,
            "height": null,
            "justify_content": null,
            "justify_items": null,
            "left": null,
            "margin": null,
            "max_height": null,
            "max_width": null,
            "min_height": null,
            "min_width": null,
            "object_fit": null,
            "object_position": null,
            "order": null,
            "overflow": null,
            "overflow_x": null,
            "overflow_y": null,
            "padding": null,
            "right": null,
            "top": null,
            "visibility": null,
            "width": null
          }
        },
        "98cd58abc4db478686dddf218e1afb27": {
          "model_module": "@jupyter-widgets/base",
          "model_module_version": "1.2.0",
          "model_name": "LayoutModel",
          "state": {
            "_model_module": "@jupyter-widgets/base",
            "_model_module_version": "1.2.0",
            "_model_name": "LayoutModel",
            "_view_count": null,
            "_view_module": "@jupyter-widgets/base",
            "_view_module_version": "1.2.0",
            "_view_name": "LayoutView",
            "align_content": null,
            "align_items": null,
            "align_self": null,
            "border": null,
            "bottom": null,
            "display": null,
            "flex": null,
            "flex_flow": null,
            "grid_area": null,
            "grid_auto_columns": null,
            "grid_auto_flow": null,
            "grid_auto_rows": null,
            "grid_column": null,
            "grid_gap": null,
            "grid_row": null,
            "grid_template_areas": null,
            "grid_template_columns": null,
            "grid_template_rows": null,
            "height": null,
            "justify_content": null,
            "justify_items": null,
            "left": null,
            "margin": null,
            "max_height": null,
            "max_width": null,
            "min_height": null,
            "min_width": null,
            "object_fit": null,
            "object_position": null,
            "order": null,
            "overflow": null,
            "overflow_x": null,
            "overflow_y": null,
            "padding": null,
            "right": null,
            "top": null,
            "visibility": null,
            "width": null
          }
        },
        "9a798d22aa774ada97da0025982c7663": {
          "model_module": "@jupyter-widgets/controls",
          "model_module_version": "1.5.0",
          "model_name": "DescriptionStyleModel",
          "state": {
            "_model_module": "@jupyter-widgets/controls",
            "_model_module_version": "1.5.0",
            "_model_name": "DescriptionStyleModel",
            "_view_count": null,
            "_view_module": "@jupyter-widgets/base",
            "_view_module_version": "1.2.0",
            "_view_name": "StyleView",
            "description_width": ""
          }
        },
        "a8ca717f0dc240ffba89beafd9e5549c": {
          "model_module": "@jupyter-widgets/base",
          "model_module_version": "1.2.0",
          "model_name": "LayoutModel",
          "state": {
            "_model_module": "@jupyter-widgets/base",
            "_model_module_version": "1.2.0",
            "_model_name": "LayoutModel",
            "_view_count": null,
            "_view_module": "@jupyter-widgets/base",
            "_view_module_version": "1.2.0",
            "_view_name": "LayoutView",
            "align_content": null,
            "align_items": null,
            "align_self": null,
            "border": null,
            "bottom": null,
            "display": null,
            "flex": null,
            "flex_flow": null,
            "grid_area": null,
            "grid_auto_columns": null,
            "grid_auto_flow": null,
            "grid_auto_rows": null,
            "grid_column": null,
            "grid_gap": null,
            "grid_row": null,
            "grid_template_areas": null,
            "grid_template_columns": null,
            "grid_template_rows": null,
            "height": null,
            "justify_content": null,
            "justify_items": null,
            "left": null,
            "margin": null,
            "max_height": null,
            "max_width": null,
            "min_height": null,
            "min_width": null,
            "object_fit": null,
            "object_position": null,
            "order": null,
            "overflow": null,
            "overflow_x": null,
            "overflow_y": null,
            "padding": null,
            "right": null,
            "top": null,
            "visibility": null,
            "width": null
          }
        },
        "b31a7e3446034e4bb5ac1acc59c51c33": {
          "model_module": "@jupyter-widgets/base",
          "model_module_version": "1.2.0",
          "model_name": "LayoutModel",
          "state": {
            "_model_module": "@jupyter-widgets/base",
            "_model_module_version": "1.2.0",
            "_model_name": "LayoutModel",
            "_view_count": null,
            "_view_module": "@jupyter-widgets/base",
            "_view_module_version": "1.2.0",
            "_view_name": "LayoutView",
            "align_content": null,
            "align_items": null,
            "align_self": null,
            "border": null,
            "bottom": null,
            "display": null,
            "flex": null,
            "flex_flow": null,
            "grid_area": null,
            "grid_auto_columns": null,
            "grid_auto_flow": null,
            "grid_auto_rows": null,
            "grid_column": null,
            "grid_gap": null,
            "grid_row": null,
            "grid_template_areas": null,
            "grid_template_columns": null,
            "grid_template_rows": null,
            "height": null,
            "justify_content": null,
            "justify_items": null,
            "left": null,
            "margin": null,
            "max_height": null,
            "max_width": null,
            "min_height": null,
            "min_width": null,
            "object_fit": null,
            "object_position": null,
            "order": null,
            "overflow": null,
            "overflow_x": null,
            "overflow_y": null,
            "padding": null,
            "right": null,
            "top": null,
            "visibility": null,
            "width": null
          }
        },
        "b4a6ad933ed245e8b2095abf5f30ceee": {
          "model_module": "@jupyter-widgets/controls",
          "model_module_version": "1.5.0",
          "model_name": "DescriptionStyleModel",
          "state": {
            "_model_module": "@jupyter-widgets/controls",
            "_model_module_version": "1.5.0",
            "_model_name": "DescriptionStyleModel",
            "_view_count": null,
            "_view_module": "@jupyter-widgets/base",
            "_view_module_version": "1.2.0",
            "_view_name": "StyleView",
            "description_width": ""
          }
        },
        "b4ec91b969c04c038086bead3013a97d": {
          "model_module": "@jupyter-widgets/base",
          "model_module_version": "1.2.0",
          "model_name": "LayoutModel",
          "state": {
            "_model_module": "@jupyter-widgets/base",
            "_model_module_version": "1.2.0",
            "_model_name": "LayoutModel",
            "_view_count": null,
            "_view_module": "@jupyter-widgets/base",
            "_view_module_version": "1.2.0",
            "_view_name": "LayoutView",
            "align_content": null,
            "align_items": null,
            "align_self": null,
            "border": null,
            "bottom": null,
            "display": null,
            "flex": null,
            "flex_flow": null,
            "grid_area": null,
            "grid_auto_columns": null,
            "grid_auto_flow": null,
            "grid_auto_rows": null,
            "grid_column": null,
            "grid_gap": null,
            "grid_row": null,
            "grid_template_areas": null,
            "grid_template_columns": null,
            "grid_template_rows": null,
            "height": null,
            "justify_content": null,
            "justify_items": null,
            "left": null,
            "margin": null,
            "max_height": null,
            "max_width": null,
            "min_height": null,
            "min_width": null,
            "object_fit": null,
            "object_position": null,
            "order": null,
            "overflow": null,
            "overflow_x": null,
            "overflow_y": null,
            "padding": null,
            "right": null,
            "top": null,
            "visibility": null,
            "width": null
          }
        },
        "bba856a3b15745c592d060f26b5d05ba": {
          "model_module": "@jupyter-widgets/controls",
          "model_module_version": "1.5.0",
          "model_name": "HTMLModel",
          "state": {
            "_dom_classes": [],
            "_model_module": "@jupyter-widgets/controls",
            "_model_module_version": "1.5.0",
            "_model_name": "HTMLModel",
            "_view_count": null,
            "_view_module": "@jupyter-widgets/controls",
            "_view_module_version": "1.5.0",
            "_view_name": "HTMLView",
            "description": "",
            "description_tooltip": null,
            "layout": "IPY_MODEL_32d69ffb948349f0919d1a2a928997d5",
            "placeholder": "​",
            "style": "IPY_MODEL_cdeb8124b14049c78811b7b25be44af0",
            "value": "vocab.json: 100%"
          }
        },
        "bcade70f610d42b49c32502cc7862819": {
          "model_module": "@jupyter-widgets/controls",
          "model_module_version": "1.5.0",
          "model_name": "DescriptionStyleModel",
          "state": {
            "_model_module": "@jupyter-widgets/controls",
            "_model_module_version": "1.5.0",
            "_model_name": "DescriptionStyleModel",
            "_view_count": null,
            "_view_module": "@jupyter-widgets/base",
            "_view_module_version": "1.2.0",
            "_view_name": "StyleView",
            "description_width": ""
          }
        },
        "bdf8eb0ba01442ebb7e5ca5827fe2831": {
          "model_module": "@jupyter-widgets/base",
          "model_module_version": "1.2.0",
          "model_name": "LayoutModel",
          "state": {
            "_model_module": "@jupyter-widgets/base",
            "_model_module_version": "1.2.0",
            "_model_name": "LayoutModel",
            "_view_count": null,
            "_view_module": "@jupyter-widgets/base",
            "_view_module_version": "1.2.0",
            "_view_name": "LayoutView",
            "align_content": null,
            "align_items": null,
            "align_self": null,
            "border": null,
            "bottom": null,
            "display": null,
            "flex": null,
            "flex_flow": null,
            "grid_area": null,
            "grid_auto_columns": null,
            "grid_auto_flow": null,
            "grid_auto_rows": null,
            "grid_column": null,
            "grid_gap": null,
            "grid_row": null,
            "grid_template_areas": null,
            "grid_template_columns": null,
            "grid_template_rows": null,
            "height": null,
            "justify_content": null,
            "justify_items": null,
            "left": null,
            "margin": null,
            "max_height": null,
            "max_width": null,
            "min_height": null,
            "min_width": null,
            "object_fit": null,
            "object_position": null,
            "order": null,
            "overflow": null,
            "overflow_x": null,
            "overflow_y": null,
            "padding": null,
            "right": null,
            "top": null,
            "visibility": null,
            "width": null
          }
        },
        "be208507b0fa4f71bcc456818a587f3c": {
          "model_module": "@jupyter-widgets/base",
          "model_module_version": "1.2.0",
          "model_name": "LayoutModel",
          "state": {
            "_model_module": "@jupyter-widgets/base",
            "_model_module_version": "1.2.0",
            "_model_name": "LayoutModel",
            "_view_count": null,
            "_view_module": "@jupyter-widgets/base",
            "_view_module_version": "1.2.0",
            "_view_name": "LayoutView",
            "align_content": null,
            "align_items": null,
            "align_self": null,
            "border": null,
            "bottom": null,
            "display": null,
            "flex": null,
            "flex_flow": null,
            "grid_area": null,
            "grid_auto_columns": null,
            "grid_auto_flow": null,
            "grid_auto_rows": null,
            "grid_column": null,
            "grid_gap": null,
            "grid_row": null,
            "grid_template_areas": null,
            "grid_template_columns": null,
            "grid_template_rows": null,
            "height": null,
            "justify_content": null,
            "justify_items": null,
            "left": null,
            "margin": null,
            "max_height": null,
            "max_width": null,
            "min_height": null,
            "min_width": null,
            "object_fit": null,
            "object_position": null,
            "order": null,
            "overflow": null,
            "overflow_x": null,
            "overflow_y": null,
            "padding": null,
            "right": null,
            "top": null,
            "visibility": null,
            "width": null
          }
        },
        "bf4567fd20b64b43847883dd1b4a4424": {
          "model_module": "@jupyter-widgets/controls",
          "model_module_version": "1.5.0",
          "model_name": "HTMLModel",
          "state": {
            "_dom_classes": [],
            "_model_module": "@jupyter-widgets/controls",
            "_model_module_version": "1.5.0",
            "_model_name": "HTMLModel",
            "_view_count": null,
            "_view_module": "@jupyter-widgets/controls",
            "_view_module_version": "1.5.0",
            "_view_name": "HTMLView",
            "description": "",
            "description_tooltip": null,
            "layout": "IPY_MODEL_fff774b070014fa3a77df004ccf7cfbc",
            "placeholder": "​",
            "style": "IPY_MODEL_e1b261ceda374ed0a9d08ef56792e6ec",
            "value": " 456k/456k [00:00&lt;00:00, 15.7MB/s]"
          }
        },
        "c27e779078834dd6a741d68477826664": {
          "model_module": "@jupyter-widgets/controls",
          "model_module_version": "1.5.0",
          "model_name": "FloatProgressModel",
          "state": {
            "_dom_classes": [],
            "_model_module": "@jupyter-widgets/controls",
            "_model_module_version": "1.5.0",
            "_model_name": "FloatProgressModel",
            "_view_count": null,
            "_view_module": "@jupyter-widgets/controls",
            "_view_module_version": "1.5.0",
            "_view_name": "ProgressView",
            "bar_style": "success",
            "description": "",
            "description_tooltip": null,
            "layout": "IPY_MODEL_e822f25387b9414090540b22cc962a2f",
            "max": 25,
            "min": 0,
            "orientation": "horizontal",
            "style": "IPY_MODEL_12736ca950394f7fb6685046a5920fa5",
            "value": 25
          }
        },
        "c3e03a0924284a05a4e1acb93e85276f": {
          "model_module": "@jupyter-widgets/controls",
          "model_module_version": "1.5.0",
          "model_name": "HTMLModel",
          "state": {
            "_dom_classes": [],
            "_model_module": "@jupyter-widgets/controls",
            "_model_module_version": "1.5.0",
            "_model_name": "HTMLModel",
            "_view_count": null,
            "_view_module": "@jupyter-widgets/controls",
            "_view_module_version": "1.5.0",
            "_view_name": "HTMLView",
            "description": "",
            "description_tooltip": null,
            "layout": "IPY_MODEL_1c95fa4a745a4dfd9b33120c24448bbe",
            "placeholder": "​",
            "style": "IPY_MODEL_583c9b6ce7dc4301bccfd2af3e593405",
            "value": " 1.36M/1.36M [00:00&lt;00:00, 9.66MB/s]"
          }
        },
        "ca444123dfcb4ae58e030bf8378cdce8": {
          "model_module": "@jupyter-widgets/base",
          "model_module_version": "1.2.0",
          "model_name": "LayoutModel",
          "state": {
            "_model_module": "@jupyter-widgets/base",
            "_model_module_version": "1.2.0",
            "_model_name": "LayoutModel",
            "_view_count": null,
            "_view_module": "@jupyter-widgets/base",
            "_view_module_version": "1.2.0",
            "_view_name": "LayoutView",
            "align_content": null,
            "align_items": null,
            "align_self": null,
            "border": null,
            "bottom": null,
            "display": null,
            "flex": null,
            "flex_flow": null,
            "grid_area": null,
            "grid_auto_columns": null,
            "grid_auto_flow": null,
            "grid_auto_rows": null,
            "grid_column": null,
            "grid_gap": null,
            "grid_row": null,
            "grid_template_areas": null,
            "grid_template_columns": null,
            "grid_template_rows": null,
            "height": null,
            "justify_content": null,
            "justify_items": null,
            "left": null,
            "margin": null,
            "max_height": null,
            "max_width": null,
            "min_height": null,
            "min_width": null,
            "object_fit": null,
            "object_position": null,
            "order": null,
            "overflow": null,
            "overflow_x": null,
            "overflow_y": null,
            "padding": null,
            "right": null,
            "top": null,
            "visibility": null,
            "width": null
          }
        },
        "cbc96faebbd5428bbd51c73cc66ba5ad": {
          "model_module": "@jupyter-widgets/controls",
          "model_module_version": "1.5.0",
          "model_name": "ProgressStyleModel",
          "state": {
            "_model_module": "@jupyter-widgets/controls",
            "_model_module_version": "1.5.0",
            "_model_name": "ProgressStyleModel",
            "_view_count": null,
            "_view_module": "@jupyter-widgets/base",
            "_view_module_version": "1.2.0",
            "_view_name": "StyleView",
            "bar_color": null,
            "description_width": ""
          }
        },
        "cdeb8124b14049c78811b7b25be44af0": {
          "model_module": "@jupyter-widgets/controls",
          "model_module_version": "1.5.0",
          "model_name": "DescriptionStyleModel",
          "state": {
            "_model_module": "@jupyter-widgets/controls",
            "_model_module_version": "1.5.0",
            "_model_name": "DescriptionStyleModel",
            "_view_count": null,
            "_view_module": "@jupyter-widgets/base",
            "_view_module_version": "1.2.0",
            "_view_name": "StyleView",
            "description_width": ""
          }
        },
        "d16ee8e8255d4f058e166ef7f5a7d8f3": {
          "model_module": "@jupyter-widgets/base",
          "model_module_version": "1.2.0",
          "model_name": "LayoutModel",
          "state": {
            "_model_module": "@jupyter-widgets/base",
            "_model_module_version": "1.2.0",
            "_model_name": "LayoutModel",
            "_view_count": null,
            "_view_module": "@jupyter-widgets/base",
            "_view_module_version": "1.2.0",
            "_view_name": "LayoutView",
            "align_content": null,
            "align_items": null,
            "align_self": null,
            "border": null,
            "bottom": null,
            "display": null,
            "flex": null,
            "flex_flow": null,
            "grid_area": null,
            "grid_auto_columns": null,
            "grid_auto_flow": null,
            "grid_auto_rows": null,
            "grid_column": null,
            "grid_gap": null,
            "grid_row": null,
            "grid_template_areas": null,
            "grid_template_columns": null,
            "grid_template_rows": null,
            "height": null,
            "justify_content": null,
            "justify_items": null,
            "left": null,
            "margin": null,
            "max_height": null,
            "max_width": null,
            "min_height": null,
            "min_width": null,
            "object_fit": null,
            "object_position": null,
            "order": null,
            "overflow": null,
            "overflow_x": null,
            "overflow_y": null,
            "padding": null,
            "right": null,
            "top": null,
            "visibility": null,
            "width": null
          }
        },
        "d6edfebab2724125a1c553807d17c09d": {
          "model_module": "@jupyter-widgets/controls",
          "model_module_version": "1.5.0",
          "model_name": "HTMLModel",
          "state": {
            "_dom_classes": [],
            "_model_module": "@jupyter-widgets/controls",
            "_model_module_version": "1.5.0",
            "_model_name": "HTMLModel",
            "_view_count": null,
            "_view_module": "@jupyter-widgets/controls",
            "_view_module_version": "1.5.0",
            "_view_name": "HTMLView",
            "description": "",
            "description_tooltip": null,
            "layout": "IPY_MODEL_bdf8eb0ba01442ebb7e5ca5827fe2831",
            "placeholder": "​",
            "style": "IPY_MODEL_f969b604fffe4da3bdde774344bed412",
            "value": "artifact.metadata: 100%"
          }
        },
        "db78793504fb4abb9eeb393d17c91734": {
          "model_module": "@jupyter-widgets/base",
          "model_module_version": "1.2.0",
          "model_name": "LayoutModel",
          "state": {
            "_model_module": "@jupyter-widgets/base",
            "_model_module_version": "1.2.0",
            "_model_name": "LayoutModel",
            "_view_count": null,
            "_view_module": "@jupyter-widgets/base",
            "_view_module_version": "1.2.0",
            "_view_name": "LayoutView",
            "align_content": null,
            "align_items": null,
            "align_self": null,
            "border": null,
            "bottom": null,
            "display": null,
            "flex": null,
            "flex_flow": null,
            "grid_area": null,
            "grid_auto_columns": null,
            "grid_auto_flow": null,
            "grid_auto_rows": null,
            "grid_column": null,
            "grid_gap": null,
            "grid_row": null,
            "grid_template_areas": null,
            "grid_template_columns": null,
            "grid_template_rows": null,
            "height": null,
            "justify_content": null,
            "justify_items": null,
            "left": null,
            "margin": null,
            "max_height": null,
            "max_width": null,
            "min_height": null,
            "min_width": null,
            "object_fit": null,
            "object_position": null,
            "order": null,
            "overflow": null,
            "overflow_x": null,
            "overflow_y": null,
            "padding": null,
            "right": null,
            "top": null,
            "visibility": null,
            "width": null
          }
        },
        "dcc6e77ad362446da18bb87183ed4091": {
          "model_module": "@jupyter-widgets/controls",
          "model_module_version": "1.5.0",
          "model_name": "HTMLModel",
          "state": {
            "_dom_classes": [],
            "_model_module": "@jupyter-widgets/controls",
            "_model_module_version": "1.5.0",
            "_model_name": "HTMLModel",
            "_view_count": null,
            "_view_module": "@jupyter-widgets/controls",
            "_view_module_version": "1.5.0",
            "_view_name": "HTMLView",
            "description": "",
            "description_tooltip": null,
            "layout": "IPY_MODEL_ca444123dfcb4ae58e030bf8378cdce8",
            "placeholder": "​",
            "style": "IPY_MODEL_02c4c6386ded4ee2a2894d2c254364af",
            "value": "tokenizer.json: 100%"
          }
        },
        "dea36dfa9d724a3bad62cea1e6272033": {
          "model_module": "@jupyter-widgets/controls",
          "model_module_version": "1.5.0",
          "model_name": "DescriptionStyleModel",
          "state": {
            "_model_module": "@jupyter-widgets/controls",
            "_model_module_version": "1.5.0",
            "_model_name": "DescriptionStyleModel",
            "_view_count": null,
            "_view_module": "@jupyter-widgets/base",
            "_view_module_version": "1.2.0",
            "_view_name": "StyleView",
            "description_width": ""
          }
        },
        "e1b261ceda374ed0a9d08ef56792e6ec": {
          "model_module": "@jupyter-widgets/controls",
          "model_module_version": "1.5.0",
          "model_name": "DescriptionStyleModel",
          "state": {
            "_model_module": "@jupyter-widgets/controls",
            "_model_module_version": "1.5.0",
            "_model_name": "DescriptionStyleModel",
            "_view_count": null,
            "_view_module": "@jupyter-widgets/base",
            "_view_module_version": "1.2.0",
            "_view_name": "StyleView",
            "description_width": ""
          }
        },
        "e5e7bcc2a8804c0198d7a48a0e13cbe1": {
          "model_module": "@jupyter-widgets/controls",
          "model_module_version": "1.5.0",
          "model_name": "HTMLModel",
          "state": {
            "_dom_classes": [],
            "_model_module": "@jupyter-widgets/controls",
            "_model_module_version": "1.5.0",
            "_model_name": "HTMLModel",
            "_view_count": null,
            "_view_module": "@jupyter-widgets/controls",
            "_view_module_version": "1.5.0",
            "_view_name": "HTMLView",
            "description": "",
            "description_tooltip": null,
            "layout": "IPY_MODEL_e8d914a69a77408998526bedd397f02a",
            "placeholder": "​",
            "style": "IPY_MODEL_dea36dfa9d724a3bad62cea1e6272033",
            "value": "tokenizer_config.json: 100%"
          }
        },
        "e822f25387b9414090540b22cc962a2f": {
          "model_module": "@jupyter-widgets/base",
          "model_module_version": "1.2.0",
          "model_name": "LayoutModel",
          "state": {
            "_model_module": "@jupyter-widgets/base",
            "_model_module_version": "1.2.0",
            "_model_name": "LayoutModel",
            "_view_count": null,
            "_view_module": "@jupyter-widgets/base",
            "_view_module_version": "1.2.0",
            "_view_name": "LayoutView",
            "align_content": null,
            "align_items": null,
            "align_self": null,
            "border": null,
            "bottom": null,
            "display": null,
            "flex": null,
            "flex_flow": null,
            "grid_area": null,
            "grid_auto_columns": null,
            "grid_auto_flow": null,
            "grid_auto_rows": null,
            "grid_column": null,
            "grid_gap": null,
            "grid_row": null,
            "grid_template_areas": null,
            "grid_template_columns": null,
            "grid_template_rows": null,
            "height": null,
            "justify_content": null,
            "justify_items": null,
            "left": null,
            "margin": null,
            "max_height": null,
            "max_width": null,
            "min_height": null,
            "min_width": null,
            "object_fit": null,
            "object_position": null,
            "order": null,
            "overflow": null,
            "overflow_x": null,
            "overflow_y": null,
            "padding": null,
            "right": null,
            "top": null,
            "visibility": null,
            "width": null
          }
        },
        "e8d914a69a77408998526bedd397f02a": {
          "model_module": "@jupyter-widgets/base",
          "model_module_version": "1.2.0",
          "model_name": "LayoutModel",
          "state": {
            "_model_module": "@jupyter-widgets/base",
            "_model_module_version": "1.2.0",
            "_model_name": "LayoutModel",
            "_view_count": null,
            "_view_module": "@jupyter-widgets/base",
            "_view_module_version": "1.2.0",
            "_view_name": "LayoutView",
            "align_content": null,
            "align_items": null,
            "align_self": null,
            "border": null,
            "bottom": null,
            "display": null,
            "flex": null,
            "flex_flow": null,
            "grid_area": null,
            "grid_auto_columns": null,
            "grid_auto_flow": null,
            "grid_auto_rows": null,
            "grid_column": null,
            "grid_gap": null,
            "grid_row": null,
            "grid_template_areas": null,
            "grid_template_columns": null,
            "grid_template_rows": null,
            "height": null,
            "justify_content": null,
            "justify_items": null,
            "left": null,
            "margin": null,
            "max_height": null,
            "max_width": null,
            "min_height": null,
            "min_width": null,
            "object_fit": null,
            "object_position": null,
            "order": null,
            "overflow": null,
            "overflow_x": null,
            "overflow_y": null,
            "padding": null,
            "right": null,
            "top": null,
            "visibility": null,
            "width": null
          }
        },
        "f058f580098e4942b4e0d9a239b298d4": {
          "model_module": "@jupyter-widgets/base",
          "model_module_version": "1.2.0",
          "model_name": "LayoutModel",
          "state": {
            "_model_module": "@jupyter-widgets/base",
            "_model_module_version": "1.2.0",
            "_model_name": "LayoutModel",
            "_view_count": null,
            "_view_module": "@jupyter-widgets/base",
            "_view_module_version": "1.2.0",
            "_view_name": "LayoutView",
            "align_content": null,
            "align_items": null,
            "align_self": null,
            "border": null,
            "bottom": null,
            "display": null,
            "flex": null,
            "flex_flow": null,
            "grid_area": null,
            "grid_auto_columns": null,
            "grid_auto_flow": null,
            "grid_auto_rows": null,
            "grid_column": null,
            "grid_gap": null,
            "grid_row": null,
            "grid_template_areas": null,
            "grid_template_columns": null,
            "grid_template_rows": null,
            "height": null,
            "justify_content": null,
            "justify_items": null,
            "left": null,
            "margin": null,
            "max_height": null,
            "max_width": null,
            "min_height": null,
            "min_width": null,
            "object_fit": null,
            "object_position": null,
            "order": null,
            "overflow": null,
            "overflow_x": null,
            "overflow_y": null,
            "padding": null,
            "right": null,
            "top": null,
            "visibility": null,
            "width": null
          }
        },
        "f1ad738769e74c6f89f28b205186bb92": {
          "model_module": "@jupyter-widgets/base",
          "model_module_version": "1.2.0",
          "model_name": "LayoutModel",
          "state": {
            "_model_module": "@jupyter-widgets/base",
            "_model_module_version": "1.2.0",
            "_model_name": "LayoutModel",
            "_view_count": null,
            "_view_module": "@jupyter-widgets/base",
            "_view_module_version": "1.2.0",
            "_view_name": "LayoutView",
            "align_content": null,
            "align_items": null,
            "align_self": null,
            "border": null,
            "bottom": null,
            "display": null,
            "flex": null,
            "flex_flow": null,
            "grid_area": null,
            "grid_auto_columns": null,
            "grid_auto_flow": null,
            "grid_auto_rows": null,
            "grid_column": null,
            "grid_gap": null,
            "grid_row": null,
            "grid_template_areas": null,
            "grid_template_columns": null,
            "grid_template_rows": null,
            "height": null,
            "justify_content": null,
            "justify_items": null,
            "left": null,
            "margin": null,
            "max_height": null,
            "max_width": null,
            "min_height": null,
            "min_width": null,
            "object_fit": null,
            "object_position": null,
            "order": null,
            "overflow": null,
            "overflow_x": null,
            "overflow_y": null,
            "padding": null,
            "right": null,
            "top": null,
            "visibility": null,
            "width": null
          }
        },
        "f48cac3943954d02b347c572ec7d847e": {
          "model_module": "@jupyter-widgets/controls",
          "model_module_version": "1.5.0",
          "model_name": "DescriptionStyleModel",
          "state": {
            "_model_module": "@jupyter-widgets/controls",
            "_model_module_version": "1.5.0",
            "_model_name": "DescriptionStyleModel",
            "_view_count": null,
            "_view_module": "@jupyter-widgets/base",
            "_view_module_version": "1.2.0",
            "_view_name": "StyleView",
            "description_width": ""
          }
        },
        "f5fb3f6868ab45e48c9e5b422f9666ae": {
          "model_module": "@jupyter-widgets/controls",
          "model_module_version": "1.5.0",
          "model_name": "HBoxModel",
          "state": {
            "_dom_classes": [],
            "_model_module": "@jupyter-widgets/controls",
            "_model_module_version": "1.5.0",
            "_model_name": "HBoxModel",
            "_view_count": null,
            "_view_module": "@jupyter-widgets/controls",
            "_view_module_version": "1.5.0",
            "_view_name": "HBoxView",
            "box_style": "",
            "children": [
              "IPY_MODEL_dcc6e77ad362446da18bb87183ed4091",
              "IPY_MODEL_6232ec7404c1405ba4a57969d086a045",
              "IPY_MODEL_c3e03a0924284a05a4e1acb93e85276f"
            ],
            "layout": "IPY_MODEL_db78793504fb4abb9eeb393d17c91734"
          }
        },
        "f969b604fffe4da3bdde774344bed412": {
          "model_module": "@jupyter-widgets/controls",
          "model_module_version": "1.5.0",
          "model_name": "DescriptionStyleModel",
          "state": {
            "_model_module": "@jupyter-widgets/controls",
            "_model_module_version": "1.5.0",
            "_model_name": "DescriptionStyleModel",
            "_view_count": null,
            "_view_module": "@jupyter-widgets/base",
            "_view_module_version": "1.2.0",
            "_view_name": "StyleView",
            "description_width": ""
          }
        },
        "fff774b070014fa3a77df004ccf7cfbc": {
          "model_module": "@jupyter-widgets/base",
          "model_module_version": "1.2.0",
          "model_name": "LayoutModel",
          "state": {
            "_model_module": "@jupyter-widgets/base",
            "_model_module_version": "1.2.0",
            "_model_name": "LayoutModel",
            "_view_count": null,
            "_view_module": "@jupyter-widgets/base",
            "_view_module_version": "1.2.0",
            "_view_name": "LayoutView",
            "align_content": null,
            "align_items": null,
            "align_self": null,
            "border": null,
            "bottom": null,
            "display": null,
            "flex": null,
            "flex_flow": null,
            "grid_area": null,
            "grid_auto_columns": null,
            "grid_auto_flow": null,
            "grid_auto_rows": null,
            "grid_column": null,
            "grid_gap": null,
            "grid_row": null,
            "grid_template_areas": null,
            "grid_template_columns": null,
            "grid_template_rows": null,
            "height": null,
            "justify_content": null,
            "justify_items": null,
            "left": null,
            "margin": null,
            "max_height": null,
            "max_width": null,
            "min_height": null,
            "min_width": null,
            "object_fit": null,
            "object_position": null,
            "order": null,
            "overflow": null,
            "overflow_x": null,
            "overflow_y": null,
            "padding": null,
            "right": null,
            "top": null,
            "visibility": null,
            "width": null
          }
        }
      }
    }
  },
  "nbformat": 4,
  "nbformat_minor": 0
}
