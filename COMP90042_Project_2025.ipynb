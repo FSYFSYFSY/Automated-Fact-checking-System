{
  "cells": [
    {
      "cell_type": "markdown",
      "metadata": {
        "id": "32yCsRUo8H33"
      },
      "source": [
        "# 2025 COMP90042 Project\n",
        "*Make sure you change the file name with your group id.*"
      ]
    },
    {
      "cell_type": "markdown",
      "metadata": {
        "id": "XCybYoGz8YWQ"
      },
      "source": [
        "# Readme\n",
        "*If there is something to be noted for the marker, please mention here.*\n",
        "\n",
        "*If you are planning to implement a program with Object Oriented Programming style, please put those the bottom of this ipynb file*"
      ]
    },
    {
      "cell_type": "code",
      "execution_count": null,
      "metadata": {},
      "outputs": [],
      "source": [
        "import json\n",
        "import torch\n",
        "import torch.nn as nn\n",
        "import torch.nn.functional as func\n",
        "from torch.utils.data import dataloader, dataset\n",
        "from transformers import BertTokenizer\n"
      ]
    },
    {
      "cell_type": "markdown",
      "metadata": {
        "id": "6po98qVA8bJD"
      },
      "source": [
        "# 1.DataSet Processing\n",
        "(You can add as many code blocks and text blocks as you need. However, YOU SHOULD NOT MODIFY the section title)"
      ]
    },
    {
      "cell_type": "code",
      "execution_count": null,
      "metadata": {
        "id": "qvff21Hv8zjk"
      },
      "outputs": [],
      "source": [
        "class BertDataSet(dataset.Dataset):\n",
        "\n",
        "    def __init__(self, claims, evidence, tokenizer, max_len, if_train=True):\n",
        "        self.claim_texts = []\n",
        "        self.evidence_texts = []\n",
        "        self.tokenizer = tokenizer\n",
        "        self.max_len = max_len\n",
        "        self.if_train = if_train\n",
        "        if if_train:\n",
        "            self.labels = []\n",
        "\n",
        "        self.label2id = {\n",
        "            \"SUPPORTS\": 0,\n",
        "            \"REFUTES\": 1,\n",
        "            \"NOT_ENOUGH_INFO\": 2,\n",
        "            \"DISPUTED\": 3\n",
        "        }\n",
        "\n",
        "        for claim in claims:\n",
        "            self.claim_texts.append(claim['text'])\n",
        "            evidence_text = \"\"\n",
        "            for evid in claim['evidence']:\n",
        "                if evid in evidence:\n",
        "                    evidence_text += evidence[evid] + \" \"\n",
        "            self.evidence_texts.append(evidence_text.strip())\n",
        "            if if_train:\n",
        "                self.labels.append(self.label2id[claim['claim_label']])\n",
        "\n",
        "        def __len__(self):\n",
        "            return len(self.claim_texts)\n",
        "                \n",
        "        def __getitem__(self, idx):            \n",
        "            encoded = self.tokenizer(\n",
        "                self.claim_texts[idx],\n",
        "                self.evidence_texts[idx],\n",
        "                padding='max_length',\n",
        "                truncation=True,\n",
        "                max_length=self.max_length,\n",
        "                return_tensors='pt'\n",
        "            )\n",
        "            if self.if_train:\n",
        "                return {\n",
        "                    'input_ids': encoded['input_ids'].squeeze(0),\n",
        "                    'attention_mask': encoded['attention_mask'].squeeze(0),\n",
        "                    'labels': torch.tensor(self.labels[idx], dtype=torch.int)\n",
        "                }    \n",
        "            else:\n",
        "                return {\n",
        "                    'input_ids': encoded['input_ids'].squeeze(0),\n",
        "                    'attention_mask': encoded['attention_mask'].squeeze(0),\n",
        "                }\n",
        "            "
      ]
    },
    {
      "cell_type": "code",
      "execution_count": null,
      "metadata": {},
      "outputs": [],
      "source": [
        "with open(\"data\\dev-claims.json\", 'r') as f:\n",
        "    claims = json.load(f)\n",
        "\n",
        "with open(\"data\\evidence.json\", 'r') as f:\n",
        "    evidence = json.load(f)\n",
        "\n",
        "tokenizer = BertTokenizer.from_pretrained('bert-base-uncased')\n",
        "\n",
        "dataset = BertDataSet(claims, evidence, tokenizer)\n",
        "dataloader = dataloader.DataLoader(dataset, batch_size=16, shuffle=True)"
      ]
    },
    {
      "cell_type": "markdown",
      "metadata": {
        "id": "1FA2ao2l8hOg"
      },
      "source": [
        "# 2. Model Implementation\n",
        "(You can add as many code blocks and text blocks as you need. However, YOU SHOULD NOT MODIFY the section title)"
      ]
    },
    {
      "cell_type": "code",
      "execution_count": null,
      "metadata": {
        "id": "QIEqDDT78q39"
      },
      "outputs": [],
      "source": []
    },
    {
      "cell_type": "markdown",
      "metadata": {
        "id": "EzGuzHPE87Ya"
      },
      "source": [
        "# 3.Testing and Evaluation\n",
        "(You can add as many code blocks and text blocks as you need. However, YOU SHOULD NOT MODIFY the section title)"
      ]
    },
    {
      "cell_type": "code",
      "execution_count": null,
      "metadata": {
        "id": "6ZVeNYIH9IaL"
      },
      "outputs": [],
      "source": []
    },
    {
      "cell_type": "markdown",
      "metadata": {
        "id": "mefSOe8eTmGP"
      },
      "source": [
        "## Object Oriented Programming codes here\n",
        "\n",
        "*You can use multiple code snippets. Just add more if needed*"
      ]
    }
  ],
  "metadata": {
    "colab": {
      "provenance": [],
      "toc_visible": true
    },
    "kernelspec": {
      "display_name": "Python 3",
      "name": "python3"
    },
    "language_info": {
      "codemirror_mode": {
        "name": "ipython",
        "version": 3
      },
      "file_extension": ".py",
      "mimetype": "text/x-python",
      "name": "python",
      "nbconvert_exporter": "python",
      "pygments_lexer": "ipython3",
      "version": "3.11.9"
    }
  },
  "nbformat": 4,
  "nbformat_minor": 0
}
