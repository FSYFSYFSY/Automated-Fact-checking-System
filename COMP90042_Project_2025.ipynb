{
  "cells": [
    {
      "cell_type": "markdown",
      "metadata": {
        "id": "32yCsRUo8H33"
      },
      "source": [
        "# 2025 COMP90042 Project\n",
        "*Make sure you change the file name with your group id.*"
      ]
    },
    {
      "cell_type": "markdown",
      "metadata": {
        "id": "XCybYoGz8YWQ"
      },
      "source": [
        "# Readme\n",
        "*If there is something to be noted for the marker, please mention here.*\n",
        "\n",
        "*If you are planning to implement a program with Object Oriented Programming style, please put those the bottom of this ipynb file*"
      ]
    },
    {
      "cell_type": "code",
      "execution_count": 57,
      "metadata": {
        "id": "dJjxN9-mrp47",
        "colab": {
          "base_uri": "https://localhost:8080/"
        },
        "outputId": "f4b0a2c2-f85a-485a-e622-0df367936074"
      },
      "outputs": [
        {
          "output_type": "stream",
          "name": "stdout",
          "text": [
            "Drive already mounted at /content/drive; to attempt to forcibly remount, call drive.mount(\"/content/drive\", force_remount=True).\n"
          ]
        }
      ],
      "source": [
        "import json\n",
        "import torch\n",
        "import torch.nn as nn\n",
        "import torch.nn.functional as func\n",
        "from torch.utils.data import DataLoader,Dataset\n",
        "from transformers import RobertaTokenizer, RobertaModel\n",
        "from google.colab import drive\n",
        "drive.mount('/content/drive')\n"
      ]
    },
    {
      "cell_type": "code",
      "source": [
        "import os\n",
        "path = '/content/drive/MyDrive/Automated-Fact-checking-System'\n",
        "os.chdir(path)\n",
        "os.listdir(path)\n"
      ],
      "metadata": {
        "colab": {
          "base_uri": "https://localhost:8080/"
        },
        "id": "cUuMofuvf3cf",
        "outputId": "abb75be0-abb5-4a45-dda9-1dbc01cf82b2"
      },
      "execution_count": 51,
      "outputs": [
        {
          "output_type": "execute_result",
          "data": {
            "text/plain": [
              "['Project Group.md',\n",
              " 'eval.py',\n",
              " 'README.md',\n",
              " '.gitignore',\n",
              " 'COMP90042_Project_2025.ipynb',\n",
              " 'data',\n",
              " '.git']"
            ]
          },
          "metadata": {},
          "execution_count": 51
        }
      ]
    },
    {
      "cell_type": "markdown",
      "metadata": {
        "id": "6po98qVA8bJD"
      },
      "source": [
        "# 1.DataSet Processing\n",
        "(You can add as many code blocks and text blocks as you need. However, YOU SHOULD NOT MODIFY the section title)"
      ]
    },
    {
      "cell_type": "code",
      "execution_count": 60,
      "metadata": {
        "id": "qvff21Hv8zjk"
      },
      "outputs": [],
      "source": [
        "class ClaimEvidenceDataset(Dataset):\n",
        "\n",
        "    def __init__(self, claims, evidence, tokenizer, max_len=512, if_train=True):\n",
        "        self.claim_texts = []\n",
        "        self.evidence_texts = []\n",
        "        self.tokenizer = tokenizer\n",
        "        self.max_length = max_len\n",
        "        self.if_train = if_train\n",
        "        if if_train:\n",
        "            self.labels = []\n",
        "\n",
        "        self.label2id = {\n",
        "            \"SUPPORTS\": 0,\n",
        "            \"REFUTES\": 1,\n",
        "            \"NOT_ENOUGH_INFO\": 2,\n",
        "            \"DISPUTED\": 3\n",
        "        }\n",
        "\n",
        "        for claim_idx, claim_info in claims.items():\n",
        "            self.claim_texts.append(claim_info['claim_text']+'</s>')\n",
        "            evidence_text = \"\"\n",
        "            for evid in claim_info['evidences']:\n",
        "                if evid in evidence:\n",
        "                    evidence_text += evidence[evid] + \" \"\n",
        "            self.evidence_texts.append(evidence_text.strip())\n",
        "            if if_train:\n",
        "                self.labels.append(self.label2id[claim_info['claim_label']])\n",
        "\n",
        "    def __len__(self):\n",
        "        return len(self.claim_texts)\n",
        "\n",
        "    def __getitem__(self, idx):\n",
        "        encoded = self.tokenizer(\n",
        "            self.claim_texts[idx],\n",
        "            self.evidence_texts[idx],\n",
        "            padding='max_length',\n",
        "            truncation=True,\n",
        "            max_length=self.max_length,\n",
        "            return_tensors='pt'\n",
        "        )\n",
        "        if self.if_train:\n",
        "            return {\n",
        "                'input_ids': encoded['input_ids'].squeeze(0),\n",
        "                'attention_mask': encoded['attention_mask'].squeeze(0),\n",
        "                'labels': torch.tensor(self.labels[idx], dtype=torch.int)\n",
        "            }\n",
        "        else:\n",
        "            return {\n",
        "                'input_ids': encoded['input_ids'].squeeze(0),\n",
        "                'attention_mask': encoded['attention_mask'].squeeze(0),\n",
        "            }\n"
      ]
    },
    {
      "cell_type": "code",
      "execution_count": 61,
      "metadata": {
        "id": "7YchkN8rrp48",
        "colab": {
          "base_uri": "https://localhost:8080/"
        },
        "outputId": "3e1961f4-9039-4ee0-b6e5-b2faa193b3c2"
      },
      "outputs": [
        {
          "output_type": "stream",
          "name": "stderr",
          "text": [
            "Some weights of RobertaModel were not initialized from the model checkpoint at roberta-base and are newly initialized: ['pooler.dense.bias', 'pooler.dense.weight']\n",
            "You should probably TRAIN this model on a down-stream task to be able to use it for predictions and inference.\n"
          ]
        }
      ],
      "source": [
        "with open(\"data/dev-claims.json\", 'r') as f:\n",
        "    claims = json.load(f)\n",
        "\n",
        "with open(\"data/evidence.json\", 'r') as f:\n",
        "    evidence = json.load(f)\n",
        "\n",
        "tokenizer = RobertaTokenizer.from_pretrained('roberta-base')\n",
        "model = RobertaModel.from_pretrained('roberta-base')\n",
        "\n",
        "dataset = ClaimEvidenceDataset(claims, evidence, tokenizer)\n",
        "dataloader = DataLoader(dataset, batch_size=16, shuffle=True)"
      ]
    },
    {
      "cell_type": "markdown",
      "metadata": {
        "id": "1FA2ao2l8hOg"
      },
      "source": [
        "# 2. Model Implementation\n",
        "(You can add as many code blocks and text blocks as you need. However, YOU SHOULD NOT MODIFY the section title)"
      ]
    },
    {
      "cell_type": "code",
      "execution_count": null,
      "metadata": {
        "id": "QIEqDDT78q39"
      },
      "outputs": [],
      "source": []
    },
    {
      "cell_type": "markdown",
      "metadata": {
        "id": "EzGuzHPE87Ya"
      },
      "source": [
        "# 3.Testing and Evaluation\n",
        "(You can add as many code blocks and text blocks as you need. However, YOU SHOULD NOT MODIFY the section title)"
      ]
    },
    {
      "cell_type": "code",
      "execution_count": null,
      "metadata": {
        "id": "6ZVeNYIH9IaL"
      },
      "outputs": [],
      "source": []
    },
    {
      "cell_type": "markdown",
      "metadata": {
        "id": "mefSOe8eTmGP"
      },
      "source": [
        "## Object Oriented Programming codes here\n",
        "\n",
        "*You can use multiple code snippets. Just add more if needed*"
      ]
    }
  ],
  "metadata": {
    "colab": {
      "provenance": []
    },
    "kernelspec": {
      "display_name": "Python 3",
      "name": "python3"
    },
    "language_info": {
      "codemirror_mode": {
        "name": "ipython",
        "version": 3
      },
      "file_extension": ".py",
      "mimetype": "text/x-python",
      "name": "python",
      "nbconvert_exporter": "python",
      "pygments_lexer": "ipython3",
      "version": "3.11.9"
    }
  },
  "nbformat": 4,
  "nbformat_minor": 0
}